{
 "cells": [
  {
   "cell_type": "code",
   "execution_count": 1,
   "id": "769584b0-ad0c-499d-9abc-53b9363053ab",
   "metadata": {},
   "outputs": [],
   "source": [
    "# Libraries in python\n",
    "# Python libraries is a collection of functions and methods that allows you to perform many actions without writing your code"
   ]
  },
  {
   "cell_type": "code",
   "execution_count": 3,
   "id": "9ba71f54-5ebe-4175-839d-150410de9923",
   "metadata": {},
   "outputs": [],
   "source": [
    "# 1. Python NumPy\n",
    "# NumPy stands for Numerical python and is the core library for numeric and scientific computing\n",
    "# It consists of multi_dimensional array objects and a collection of routines for processing those arrays"
   ]
  },
  {
   "cell_type": "code",
   "execution_count": 5,
   "id": "38c8ddc7-c66a-43f2-a26e-c91c19a54742",
   "metadata": {},
   "outputs": [],
   "source": [
    "# creating NumPy arrays"
   ]
  },
  {
   "cell_type": "code",
   "execution_count": 7,
   "id": "3374e0bc-510c-4f94-8772-e8117a8e43b8",
   "metadata": {},
   "outputs": [],
   "source": [
    "# 1. single_dimensional array"
   ]
  },
  {
   "cell_type": "code",
   "execution_count": 9,
   "id": "532a6e50-2bc8-444e-8142-d4ba28e37102",
   "metadata": {},
   "outputs": [],
   "source": [
    "import numpy as np"
   ]
  },
  {
   "cell_type": "code",
   "execution_count": 23,
   "id": "3a31a662-11a1-4467-818b-1da474f5008d",
   "metadata": {},
   "outputs": [],
   "source": [
    "l1 = [1,2,4,5]"
   ]
  },
  {
   "cell_type": "code",
   "execution_count": 25,
   "id": "3c831eb9-39d5-4151-9bdc-72bd22025cac",
   "metadata": {},
   "outputs": [
    {
     "data": {
      "text/plain": [
       "array([1, 2, 4, 5])"
      ]
     },
     "execution_count": 25,
     "metadata": {},
     "output_type": "execute_result"
    }
   ],
   "source": [
    "n1 = np.array(l1)\n",
    "n1"
   ]
  },
  {
   "cell_type": "code",
   "execution_count": 27,
   "id": "b4fd33ee-c29d-4e2a-b940-260f35e82c3d",
   "metadata": {},
   "outputs": [
    {
     "data": {
      "text/plain": [
       "numpy.ndarray"
      ]
     },
     "execution_count": 27,
     "metadata": {},
     "output_type": "execute_result"
    }
   ],
   "source": [
    "type(n1)"
   ]
  },
  {
   "cell_type": "code",
   "execution_count": 19,
   "id": "7e1486f8-dbde-404d-ad67-0ebbf9be8de5",
   "metadata": {},
   "outputs": [],
   "source": [
    "# 2. multiple_dimensional array"
   ]
  },
  {
   "cell_type": "code",
   "execution_count": 39,
   "id": "20b8fac5-adc6-469c-80ec-146fec43728a",
   "metadata": {},
   "outputs": [
    {
     "data": {
      "text/plain": [
       "array([[  2,  34,   1],\n",
       "       [ 64, 125,   5]])"
      ]
     },
     "execution_count": 39,
     "metadata": {},
     "output_type": "execute_result"
    }
   ],
   "source": [
    "n2 = np.array([[2,34,1],[64,125,5]])\n",
    "n2"
   ]
  },
  {
   "cell_type": "code",
   "execution_count": 41,
   "id": "1f44d886-c2cd-4b89-95ce-7f4b5ae71cc4",
   "metadata": {},
   "outputs": [
    {
     "data": {
      "text/plain": [
       "numpy.ndarray"
      ]
     },
     "execution_count": 41,
     "metadata": {},
     "output_type": "execute_result"
    }
   ],
   "source": [
    "type(n2)"
   ]
  },
  {
   "cell_type": "code",
   "execution_count": 133,
   "id": "8d0e2fd4-451e-4b11-bc00-53339ff9bacf",
   "metadata": {},
   "outputs": [],
   "source": [
    "# Initializing NumPy array with zero"
   ]
  },
  {
   "cell_type": "code",
   "execution_count": 47,
   "id": "b99b4e4b-fe19-4f06-9a10-d57d42293875",
   "metadata": {},
   "outputs": [],
   "source": [
    "n3 = np.zeros((3,5))"
   ]
  },
  {
   "cell_type": "code",
   "execution_count": 49,
   "id": "b89104ff-d8b8-44af-a53d-ef266a3468f6",
   "metadata": {},
   "outputs": [
    {
     "data": {
      "text/plain": [
       "array([[0., 0., 0., 0., 0.],\n",
       "       [0., 0., 0., 0., 0.],\n",
       "       [0., 0., 0., 0., 0.]])"
      ]
     },
     "execution_count": 49,
     "metadata": {},
     "output_type": "execute_result"
    }
   ],
   "source": [
    "n3"
   ]
  },
  {
   "cell_type": "code",
   "execution_count": 51,
   "id": "1ca5b736-f8b2-4b5f-bae0-a8f836de52e3",
   "metadata": {},
   "outputs": [
    {
     "data": {
      "text/plain": [
       "numpy.ndarray"
      ]
     },
     "execution_count": 51,
     "metadata": {},
     "output_type": "execute_result"
    }
   ],
   "source": [
    "type(n3)"
   ]
  },
  {
   "cell_type": "code",
   "execution_count": 131,
   "id": "3ab999c3-efc4-4a1a-aee9-79121efbbf98",
   "metadata": {},
   "outputs": [],
   "source": [
    "# initializing NumPy array with the same number"
   ]
  },
  {
   "cell_type": "code",
   "execution_count": 55,
   "id": "d6ef78a4-81f4-4bef-b87c-2a3b2260b18b",
   "metadata": {},
   "outputs": [],
   "source": [
    "n4 = np.full((4,4),10)"
   ]
  },
  {
   "cell_type": "code",
   "execution_count": 57,
   "id": "45a4b42d-a22e-4242-962e-18e75da48342",
   "metadata": {},
   "outputs": [
    {
     "data": {
      "text/plain": [
       "array([[10, 10, 10, 10],\n",
       "       [10, 10, 10, 10],\n",
       "       [10, 10, 10, 10],\n",
       "       [10, 10, 10, 10]])"
      ]
     },
     "execution_count": 57,
     "metadata": {},
     "output_type": "execute_result"
    }
   ],
   "source": [
    "n4"
   ]
  },
  {
   "cell_type": "code",
   "execution_count": 129,
   "id": "b447d883-0f4c-4135-b315-850f6dda4842",
   "metadata": {},
   "outputs": [],
   "source": [
    "# initializing NumPy array within an range"
   ]
  },
  {
   "cell_type": "code",
   "execution_count": 61,
   "id": "990951fc-69a5-4ef7-b9e8-4baaccccad39",
   "metadata": {},
   "outputs": [],
   "source": [
    "n5 = np.arange(10,20)"
   ]
  },
  {
   "cell_type": "code",
   "execution_count": 63,
   "id": "f9f22894-97fe-49d1-a505-c4445b26cf05",
   "metadata": {},
   "outputs": [
    {
     "data": {
      "text/plain": [
       "array([10, 11, 12, 13, 14, 15, 16, 17, 18, 19])"
      ]
     },
     "execution_count": 63,
     "metadata": {},
     "output_type": "execute_result"
    }
   ],
   "source": [
    "n5"
   ]
  },
  {
   "cell_type": "code",
   "execution_count": 65,
   "id": "59ef125f-41b6-4a39-a7fc-803d0f057099",
   "metadata": {},
   "outputs": [],
   "source": [
    "# values in series"
   ]
  },
  {
   "cell_type": "code",
   "execution_count": 67,
   "id": "53396c1c-657e-4644-b2b3-c1b8186fcdf5",
   "metadata": {},
   "outputs": [],
   "source": [
    "n6 = np.arange(10,50,5)"
   ]
  },
  {
   "cell_type": "code",
   "execution_count": 69,
   "id": "42373914-1f4b-429a-b186-dc9ac7df9665",
   "metadata": {},
   "outputs": [
    {
     "data": {
      "text/plain": [
       "array([10, 15, 20, 25, 30, 35, 40, 45])"
      ]
     },
     "execution_count": 69,
     "metadata": {},
     "output_type": "execute_result"
    }
   ],
   "source": [
    "n6"
   ]
  },
  {
   "cell_type": "code",
   "execution_count": 71,
   "id": "8313befc-72b0-454c-8961-577cb59ae21a",
   "metadata": {},
   "outputs": [],
   "source": [
    "# initializing NumPay with random number"
   ]
  },
  {
   "cell_type": "code",
   "execution_count": 73,
   "id": "8a549d00-cccf-4288-a50a-7019a7476bee",
   "metadata": {},
   "outputs": [],
   "source": [
    "n7 = np. random.randint(10,50,6)"
   ]
  },
  {
   "cell_type": "code",
   "execution_count": 75,
   "id": "81a3aca9-b3d4-4d13-a56c-571548076ca0",
   "metadata": {},
   "outputs": [
    {
     "data": {
      "text/plain": [
       "array([31, 35, 31, 32, 22, 43])"
      ]
     },
     "execution_count": 75,
     "metadata": {},
     "output_type": "execute_result"
    }
   ],
   "source": [
    "n7"
   ]
  },
  {
   "cell_type": "code",
   "execution_count": 79,
   "id": "104fbdb6-e45f-469f-bfc7-f1b96f10bfc2",
   "metadata": {},
   "outputs": [],
   "source": [
    "n8 = np.array([[10,13,232],[214,42,14]])"
   ]
  },
  {
   "cell_type": "code",
   "execution_count": 81,
   "id": "1f2e6f9a-e928-4a17-8d19-b5405f9f5f9d",
   "metadata": {},
   "outputs": [
    {
     "data": {
      "text/plain": [
       "array([[ 10,  13, 232],\n",
       "       [214,  42,  14]])"
      ]
     },
     "execution_count": 81,
     "metadata": {},
     "output_type": "execute_result"
    }
   ],
   "source": [
    "n8"
   ]
  },
  {
   "cell_type": "code",
   "execution_count": 83,
   "id": "43ecd45a-bed7-43ac-b041-a96ccd2217ac",
   "metadata": {},
   "outputs": [
    {
     "data": {
      "text/plain": [
       "(2, 3)"
      ]
     },
     "execution_count": 83,
     "metadata": {},
     "output_type": "execute_result"
    }
   ],
   "source": [
    "n8.shape"
   ]
  },
  {
   "cell_type": "code",
   "execution_count": 85,
   "id": "2bc5b943-b88a-4d09-9100-4150e5fab245",
   "metadata": {},
   "outputs": [],
   "source": [
    "n8.shape = (3,2)"
   ]
  },
  {
   "cell_type": "code",
   "execution_count": 87,
   "id": "d848e051-546d-400e-9597-8e2dfd44fe53",
   "metadata": {},
   "outputs": [
    {
     "data": {
      "text/plain": [
       "(3, 2)"
      ]
     },
     "execution_count": 87,
     "metadata": {},
     "output_type": "execute_result"
    }
   ],
   "source": [
    "n8.shape"
   ]
  },
  {
   "cell_type": "code",
   "execution_count": 89,
   "id": "aa92ff35-2555-4614-abdb-f17a31f53cba",
   "metadata": {},
   "outputs": [
    {
     "data": {
      "text/plain": [
       "array([[ 10,  13],\n",
       "       [232, 214],\n",
       "       [ 42,  14]])"
      ]
     },
     "execution_count": 89,
     "metadata": {},
     "output_type": "execute_result"
    }
   ],
   "source": [
    "n8"
   ]
  },
  {
   "cell_type": "code",
   "execution_count": 93,
   "id": "521942c7-5611-4f08-a1c6-d0453415fef2",
   "metadata": {},
   "outputs": [],
   "source": [
    "# virtical stack"
   ]
  },
  {
   "cell_type": "code",
   "execution_count": 95,
   "id": "2d537ea4-8836-4ebd-b1bd-da32e3968318",
   "metadata": {},
   "outputs": [],
   "source": [
    "n9 = np.array([12,4,5])\n",
    "n10 = np.array([53,2,6])"
   ]
  },
  {
   "cell_type": "code",
   "execution_count": 97,
   "id": "5464f34b-9894-4e82-85c8-78aa501e3314",
   "metadata": {},
   "outputs": [
    {
     "data": {
      "text/plain": [
       "(array([12,  4,  5]), array([53,  2,  6]))"
      ]
     },
     "execution_count": 97,
     "metadata": {},
     "output_type": "execute_result"
    }
   ],
   "source": [
    "n9,n10"
   ]
  },
  {
   "cell_type": "code",
   "execution_count": 101,
   "id": "6d6cfa14-de0e-4ee3-8c20-557004034faf",
   "metadata": {},
   "outputs": [
    {
     "data": {
      "text/plain": [
       "array([[12,  4,  5],\n",
       "       [53,  2,  6]])"
      ]
     },
     "execution_count": 101,
     "metadata": {},
     "output_type": "execute_result"
    }
   ],
   "source": [
    "np.vstack((n9,n10))"
   ]
  },
  {
   "cell_type": "code",
   "execution_count": 103,
   "id": "e2320903-7232-4e56-af71-2fa5162bf354",
   "metadata": {},
   "outputs": [],
   "source": [
    "# horizental stack"
   ]
  },
  {
   "cell_type": "code",
   "execution_count": 105,
   "id": "ea6869ed-db29-4855-96bd-b3357963af62",
   "metadata": {},
   "outputs": [
    {
     "data": {
      "text/plain": [
       "array([12,  4,  5, 53,  2,  6])"
      ]
     },
     "execution_count": 105,
     "metadata": {},
     "output_type": "execute_result"
    }
   ],
   "source": [
    "np.hstack((n9,n10))"
   ]
  },
  {
   "cell_type": "code",
   "execution_count": 107,
   "id": "b0e1ff7a-b788-4678-bb03-35b833c86faa",
   "metadata": {},
   "outputs": [],
   "source": [
    "# column stack"
   ]
  },
  {
   "cell_type": "code",
   "execution_count": 109,
   "id": "b0e2c60e-80e6-4fae-885b-403f80f6008b",
   "metadata": {},
   "outputs": [
    {
     "data": {
      "text/plain": [
       "array([[12, 53],\n",
       "       [ 4,  2],\n",
       "       [ 5,  6]])"
      ]
     },
     "execution_count": 109,
     "metadata": {},
     "output_type": "execute_result"
    }
   ],
   "source": [
    "np.column_stack((n9,n10))"
   ]
  },
  {
   "cell_type": "code",
   "execution_count": 121,
   "id": "d968eaab-f511-46e4-ae70-fbb440c9e1f3",
   "metadata": {},
   "outputs": [],
   "source": [
    "# NumPy intersection"
   ]
  },
  {
   "cell_type": "code",
   "execution_count": 123,
   "id": "d2b649c3-3898-454c-a131-435a3a5afada",
   "metadata": {},
   "outputs": [],
   "source": [
    "n11 = np.array([12,20,30,40,50,60])\n",
    "n12 = np.array([50,60,70,80,90])"
   ]
  },
  {
   "cell_type": "code",
   "execution_count": 125,
   "id": "691afa61-d86e-49d4-b362-3d2e9c075810",
   "metadata": {},
   "outputs": [
    {
     "data": {
      "text/plain": [
       "array([50, 60])"
      ]
     },
     "execution_count": 125,
     "metadata": {},
     "output_type": "execute_result"
    }
   ],
   "source": [
    "np.intersect1d(n11,n12)"
   ]
  },
  {
   "cell_type": "code",
   "execution_count": 135,
   "id": "4d116212-bb7d-4694-a65e-d3ce010e0e15",
   "metadata": {},
   "outputs": [],
   "source": [
    "# Numpy Difference"
   ]
  },
  {
   "cell_type": "code",
   "execution_count": 137,
   "id": "f341721f-0504-4dc9-b176-7eaa1d06745f",
   "metadata": {},
   "outputs": [
    {
     "data": {
      "text/plain": [
       "array([12, 20, 30, 40])"
      ]
     },
     "execution_count": 137,
     "metadata": {},
     "output_type": "execute_result"
    }
   ],
   "source": [
    "np.setdiff1d(n11,n12)"
   ]
  },
  {
   "cell_type": "code",
   "execution_count": 139,
   "id": "594881e3-74e7-4fb0-9663-8024631ac692",
   "metadata": {},
   "outputs": [
    {
     "data": {
      "text/plain": [
       "array([70, 80, 90])"
      ]
     },
     "execution_count": 139,
     "metadata": {},
     "output_type": "execute_result"
    }
   ],
   "source": [
    "np.setdiff1d(n12,n11)"
   ]
  },
  {
   "cell_type": "code",
   "execution_count": 153,
   "id": "0a2ae1d8-5bd8-4ad7-a648-18f0f9732851",
   "metadata": {},
   "outputs": [],
   "source": [
    "# sum of all"
   ]
  },
  {
   "cell_type": "code",
   "execution_count": 141,
   "id": "811b6bb9-1ab5-4af0-a6d3-243ab9303dde",
   "metadata": {},
   "outputs": [],
   "source": [
    "n13=np.array([10,20])\n",
    "n14=np.array([30,40])"
   ]
  },
  {
   "cell_type": "code",
   "execution_count": 143,
   "id": "29a742e1-762a-477a-bca3-334f122ef195",
   "metadata": {},
   "outputs": [
    {
     "data": {
      "text/plain": [
       "100"
      ]
     },
     "execution_count": 143,
     "metadata": {},
     "output_type": "execute_result"
    }
   ],
   "source": [
    "np.sum([n13,n14])"
   ]
  },
  {
   "cell_type": "code",
   "execution_count": 155,
   "id": "72e233d0-af80-4f59-948a-a0a3cce1cc84",
   "metadata": {},
   "outputs": [],
   "source": [
    "# sum of columns attributes"
   ]
  },
  {
   "cell_type": "code",
   "execution_count": 145,
   "id": "24ea0870-8d4f-448d-ba83-472777324ab6",
   "metadata": {},
   "outputs": [
    {
     "data": {
      "text/plain": [
       "array([40, 60])"
      ]
     },
     "execution_count": 145,
     "metadata": {},
     "output_type": "execute_result"
    }
   ],
   "source": [
    "np.sum([n13,n14],axis=0)"
   ]
  },
  {
   "cell_type": "code",
   "execution_count": 157,
   "id": "a5e849f2-7c74-483b-bae8-875434e8e872",
   "metadata": {},
   "outputs": [],
   "source": [
    "# sum of rows attributes"
   ]
  },
  {
   "cell_type": "code",
   "execution_count": 147,
   "id": "c0685f36-dc72-4e39-8639-d38ce8e980c9",
   "metadata": {},
   "outputs": [
    {
     "data": {
      "text/plain": [
       "array([30, 70])"
      ]
     },
     "execution_count": 147,
     "metadata": {},
     "output_type": "execute_result"
    }
   ],
   "source": [
    "np.sum([n13,n14],axis=1)"
   ]
  },
  {
   "cell_type": "code",
   "execution_count": 151,
   "id": "a113aec5-a270-4bc3-9d22-31cc309d23f5",
   "metadata": {},
   "outputs": [],
   "source": [
    "n15=np.array([10,20,30])"
   ]
  },
  {
   "cell_type": "code",
   "execution_count": 159,
   "id": "256fc592-43e3-4eb1-9ac7-054166cd7f64",
   "metadata": {},
   "outputs": [],
   "source": [
    "# addition\n",
    "n15=n15+1"
   ]
  },
  {
   "cell_type": "code",
   "execution_count": 161,
   "id": "6cb39e8e-17c8-43ef-96b8-c5a9f7212c44",
   "metadata": {},
   "outputs": [
    {
     "data": {
      "text/plain": [
       "array([11, 21, 31])"
      ]
     },
     "execution_count": 161,
     "metadata": {},
     "output_type": "execute_result"
    }
   ],
   "source": [
    "n15"
   ]
  },
  {
   "cell_type": "code",
   "execution_count": 163,
   "id": "b09e1072-8fc5-40c2-adf9-bd7312cc2976",
   "metadata": {},
   "outputs": [],
   "source": [
    "# subtract\n",
    "n15=n15-1"
   ]
  },
  {
   "cell_type": "code",
   "execution_count": 165,
   "id": "8dceba22-5f81-4976-bf4a-af36a882d2a9",
   "metadata": {},
   "outputs": [
    {
     "data": {
      "text/plain": [
       "array([10, 20, 30])"
      ]
     },
     "execution_count": 165,
     "metadata": {},
     "output_type": "execute_result"
    }
   ],
   "source": [
    "n15"
   ]
  },
  {
   "cell_type": "code",
   "execution_count": 191,
   "id": "5f24a693-f017-4340-874c-29073a30fb8b",
   "metadata": {},
   "outputs": [],
   "source": [
    "# multiply\n",
    "n15=n15*2"
   ]
  },
  {
   "cell_type": "code",
   "execution_count": 193,
   "id": "db532f10-a2f1-4676-bea2-3410c895c6b0",
   "metadata": {},
   "outputs": [
    {
     "data": {
      "text/plain": [
       "array([10., 20., 30.])"
      ]
     },
     "execution_count": 193,
     "metadata": {},
     "output_type": "execute_result"
    }
   ],
   "source": [
    "n15"
   ]
  },
  {
   "cell_type": "code",
   "execution_count": 195,
   "id": "2e235ca2-c1f1-4f7f-838e-99447084102a",
   "metadata": {},
   "outputs": [],
   "source": [
    "# devision\n",
    "n15=n15/2"
   ]
  },
  {
   "cell_type": "code",
   "execution_count": 197,
   "id": "9e89ec74-6ea7-4a13-a19c-7377acc4a9cd",
   "metadata": {},
   "outputs": [
    {
     "data": {
      "text/plain": [
       "array([ 5., 10., 15.])"
      ]
     },
     "execution_count": 197,
     "metadata": {},
     "output_type": "execute_result"
    }
   ],
   "source": [
    "n15"
   ]
  },
  {
   "cell_type": "code",
   "execution_count": 221,
   "id": "c90dae0b-5456-49cf-9997-647e9373c716",
   "metadata": {},
   "outputs": [],
   "source": [
    "n16 = np.array([5,20,30,40,50])"
   ]
  },
  {
   "cell_type": "code",
   "execution_count": 223,
   "id": "4da3fc8d-322d-4e46-90dd-4442370721cb",
   "metadata": {},
   "outputs": [],
   "source": [
    "# mean\n",
    "n16 = np.mean(n16)"
   ]
  },
  {
   "cell_type": "code",
   "execution_count": 225,
   "id": "47caa505-7f26-4e23-991f-a36b2336ac90",
   "metadata": {},
   "outputs": [
    {
     "data": {
      "text/plain": [
       "29.0"
      ]
     },
     "execution_count": 225,
     "metadata": {},
     "output_type": "execute_result"
    }
   ],
   "source": [
    "n16"
   ]
  },
  {
   "cell_type": "code",
   "execution_count": 235,
   "id": "c9bd4bd3-7374-475e-8c6c-b36c85aa9697",
   "metadata": {},
   "outputs": [],
   "source": [
    "# median\n",
    "n16 = np.array([5,20,30,40,50])\n",
    "n16 = np.median(n16)"
   ]
  },
  {
   "cell_type": "code",
   "execution_count": 237,
   "id": "00d92e0a-67c4-4d45-a3a2-199127b0cf30",
   "metadata": {},
   "outputs": [
    {
     "data": {
      "text/plain": [
       "30.0"
      ]
     },
     "execution_count": 237,
     "metadata": {},
     "output_type": "execute_result"
    }
   ],
   "source": [
    "n16"
   ]
  },
  {
   "cell_type": "code",
   "execution_count": 239,
   "id": "06640888-3313-4e30-92ff-4ce507ff64b4",
   "metadata": {},
   "outputs": [],
   "source": [
    "# standard deviation\n",
    "n16 = np.array([5,20,30,40,50])\n",
    "n16 = np.std(n16)"
   ]
  },
  {
   "cell_type": "code",
   "execution_count": 241,
   "id": "fe40aff8-76f1-4dde-9437-4642429bf73c",
   "metadata": {},
   "outputs": [
    {
     "data": {
      "text/plain": [
       "15.620499351813308"
      ]
     },
     "execution_count": 241,
     "metadata": {},
     "output_type": "execute_result"
    }
   ],
   "source": [
    "n16"
   ]
  },
  {
   "cell_type": "code",
   "execution_count": 243,
   "id": "3d48db13-27b7-4c39-b7ef-b186b3a3b783",
   "metadata": {},
   "outputs": [],
   "source": [
    "# Numpy save and load"
   ]
  },
  {
   "cell_type": "code",
   "execution_count": 255,
   "id": "f58fc4c5-db6a-4051-9ada-dc5d1b243409",
   "metadata": {},
   "outputs": [],
   "source": [
    "n17 = np.array([12,43,15])\n",
    "np.save('myarray',n17)"
   ]
  },
  {
   "cell_type": "code",
   "execution_count": 259,
   "id": "80533e2b-c5ff-418b-b384-175078ede3dd",
   "metadata": {},
   "outputs": [
    {
     "data": {
      "text/plain": [
       "array([12, 43, 15])"
      ]
     },
     "execution_count": 259,
     "metadata": {},
     "output_type": "execute_result"
    }
   ],
   "source": [
    "n18=np.load('myarray.npy')\n",
    "n18"
   ]
  },
  {
   "cell_type": "code",
   "execution_count": null,
   "id": "10b46a0e-c1a9-453f-8204-34bd44a8a11f",
   "metadata": {},
   "outputs": [],
   "source": []
  }
 ],
 "metadata": {
  "kernelspec": {
   "display_name": "Python 3 (ipykernel)",
   "language": "python",
   "name": "python3"
  },
  "language_info": {
   "codemirror_mode": {
    "name": "ipython",
    "version": 3
   },
   "file_extension": ".py",
   "mimetype": "text/x-python",
   "name": "python",
   "nbconvert_exporter": "python",
   "pygments_lexer": "ipython3",
   "version": "3.12.7"
  }
 },
 "nbformat": 4,
 "nbformat_minor": 5
}
