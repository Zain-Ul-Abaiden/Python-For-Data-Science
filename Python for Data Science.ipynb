{
 "cells": [
  {
   "cell_type": "code",
   "execution_count": 76,
   "id": "c397960e-3a51-4912-bf23-364578e02a2f",
   "metadata": {},
   "outputs": [],
   "source": [
    "# how to print something"
   ]
  },
  {
   "cell_type": "code",
   "execution_count": 78,
   "id": "d4f3e3fa-8413-489f-9c5f-e9d569226022",
   "metadata": {},
   "outputs": [
    {
     "name": "stdout",
     "output_type": "stream",
     "text": [
      "python for data science\n"
     ]
    }
   ],
   "source": [
    "print(\"python for data science\")"
   ]
  },
  {
   "cell_type": "code",
   "execution_count": 80,
   "id": "4bcb0ac6-bbc0-4f31-9755-4389bbcf0237",
   "metadata": {},
   "outputs": [],
   "source": [
    "# store a name in variable"
   ]
  },
  {
   "cell_type": "code",
   "execution_count": 82,
   "id": "1f71ed79-fbd1-4513-9d25-9bdde87a1d66",
   "metadata": {},
   "outputs": [],
   "source": [
    "name = \"zain\""
   ]
  },
  {
   "cell_type": "code",
   "execution_count": 84,
   "id": "d3511c38-1adc-4764-9cbf-a79f64452ae2",
   "metadata": {},
   "outputs": [
    {
     "data": {
      "text/plain": [
       "'zain'"
      ]
     },
     "execution_count": 84,
     "metadata": {},
     "output_type": "execute_result"
    }
   ],
   "source": [
    "name"
   ]
  },
  {
   "cell_type": "code",
   "execution_count": 86,
   "id": "0dda45d0-fea1-4694-a568-e92b5061b768",
   "metadata": {},
   "outputs": [],
   "source": [
    "# you can change variable value"
   ]
  },
  {
   "cell_type": "code",
   "execution_count": 88,
   "id": "82387e0f-319e-4e82-bb5c-370d8130746c",
   "metadata": {},
   "outputs": [
    {
     "data": {
      "text/plain": [
       "'zain akram'"
      ]
     },
     "execution_count": 88,
     "metadata": {},
     "output_type": "execute_result"
    }
   ],
   "source": [
    "name =\"zain akram\"\n",
    "name"
   ]
  },
  {
   "cell_type": "code",
   "execution_count": 90,
   "id": "4725836e-87e9-417d-b824-e5cdfd9a9b99",
   "metadata": {},
   "outputs": [],
   "source": [
    "# variable types int, float, boolean, string, complex"
   ]
  },
  {
   "cell_type": "code",
   "execution_count": 92,
   "id": "109dc9f7-ed84-47b5-8aec-c0bf4edfa032",
   "metadata": {},
   "outputs": [
    {
     "data": {
      "text/plain": [
       "10"
      ]
     },
     "execution_count": 92,
     "metadata": {},
     "output_type": "execute_result"
    }
   ],
   "source": [
    "a1 = 10\n",
    "a1"
   ]
  },
  {
   "cell_type": "code",
   "execution_count": 94,
   "id": "439e71bc-8b11-48e9-b7cc-84618a0f8d19",
   "metadata": {},
   "outputs": [],
   "source": [
    "# how to check type of variable"
   ]
  },
  {
   "cell_type": "code",
   "execution_count": 96,
   "id": "7d9de215-0b3b-4e13-8845-e0a8fdee2899",
   "metadata": {},
   "outputs": [
    {
     "data": {
      "text/plain": [
       "int"
      ]
     },
     "execution_count": 96,
     "metadata": {},
     "output_type": "execute_result"
    }
   ],
   "source": [
    "type(a1)"
   ]
  },
  {
   "cell_type": "code",
   "execution_count": 98,
   "id": "aeccb302-8a48-4ce4-9471-3db7fbec3704",
   "metadata": {},
   "outputs": [
    {
     "data": {
      "text/plain": [
       "1.1"
      ]
     },
     "execution_count": 98,
     "metadata": {},
     "output_type": "execute_result"
    }
   ],
   "source": [
    "a1 = 1.1\n",
    "a1"
   ]
  },
  {
   "cell_type": "code",
   "execution_count": 100,
   "id": "58bf6e7a-51e6-4e85-82ca-a544797b30e9",
   "metadata": {},
   "outputs": [
    {
     "data": {
      "text/plain": [
       "float"
      ]
     },
     "execution_count": 100,
     "metadata": {},
     "output_type": "execute_result"
    }
   ],
   "source": [
    "type(a1)"
   ]
  },
  {
   "cell_type": "code",
   "execution_count": 102,
   "id": "7bcd93de-4b4b-4752-9c7b-80619dffbfd1",
   "metadata": {},
   "outputs": [
    {
     "data": {
      "text/plain": [
       "True"
      ]
     },
     "execution_count": 102,
     "metadata": {},
     "output_type": "execute_result"
    }
   ],
   "source": [
    "a1 = True\n",
    "a1"
   ]
  },
  {
   "cell_type": "code",
   "execution_count": 104,
   "id": "918d9772-b619-49ea-887f-ec6357d4dd55",
   "metadata": {},
   "outputs": [
    {
     "data": {
      "text/plain": [
       "bool"
      ]
     },
     "execution_count": 104,
     "metadata": {},
     "output_type": "execute_result"
    }
   ],
   "source": [
    "type(a1)"
   ]
  },
  {
   "cell_type": "code",
   "execution_count": 106,
   "id": "103b162f-33cf-44c9-9e70-6b257698035b",
   "metadata": {},
   "outputs": [
    {
     "data": {
      "text/plain": [
       "'zain akram'"
      ]
     },
     "execution_count": 106,
     "metadata": {},
     "output_type": "execute_result"
    }
   ],
   "source": [
    "a1 = \"zain akram\"\n",
    "a1"
   ]
  },
  {
   "cell_type": "code",
   "execution_count": 108,
   "id": "7fabfc7e-b80c-4c5d-b1d8-7a525436a17f",
   "metadata": {},
   "outputs": [
    {
     "data": {
      "text/plain": [
       "str"
      ]
     },
     "execution_count": 108,
     "metadata": {},
     "output_type": "execute_result"
    }
   ],
   "source": [
    "type(a1)"
   ]
  },
  {
   "cell_type": "code",
   "execution_count": 110,
   "id": "07ec7aa9-11fc-42a7-a7e2-5d72e94b046f",
   "metadata": {},
   "outputs": [
    {
     "data": {
      "text/plain": [
       "(2+3j)"
      ]
     },
     "execution_count": 110,
     "metadata": {},
     "output_type": "execute_result"
    }
   ],
   "source": [
    "a1 = 2+3j\n",
    "a1"
   ]
  },
  {
   "cell_type": "code",
   "execution_count": 112,
   "id": "6687a2d8-d432-466b-a623-2ea3bcded7b3",
   "metadata": {},
   "outputs": [
    {
     "data": {
      "text/plain": [
       "complex"
      ]
     },
     "execution_count": 112,
     "metadata": {},
     "output_type": "execute_result"
    }
   ],
   "source": [
    "type(a1)"
   ]
  },
  {
   "cell_type": "code",
   "execution_count": 118,
   "id": "c0adf50e-6e85-49fc-819d-2a43281ea0ee",
   "metadata": {},
   "outputs": [],
   "source": [
    "# arthimetic operator\n",
    "# +, -, * , /"
   ]
  },
  {
   "cell_type": "code",
   "execution_count": 120,
   "id": "bc61da14-34e5-4892-bdf6-024796595ad7",
   "metadata": {},
   "outputs": [],
   "source": [
    "a = 10\n",
    "b = 20"
   ]
  },
  {
   "cell_type": "code",
   "execution_count": 122,
   "id": "4671a24b-9ebe-4c93-aa0f-fa6960de09ca",
   "metadata": {},
   "outputs": [
    {
     "data": {
      "text/plain": [
       "(10, 20)"
      ]
     },
     "execution_count": 122,
     "metadata": {},
     "output_type": "execute_result"
    }
   ],
   "source": [
    "(a,b)"
   ]
  },
  {
   "cell_type": "code",
   "execution_count": 124,
   "id": "c74e5e4b-070c-4c2f-9361-77d6d96a744c",
   "metadata": {},
   "outputs": [
    {
     "data": {
      "text/plain": [
       "30"
      ]
     },
     "execution_count": 124,
     "metadata": {},
     "output_type": "execute_result"
    }
   ],
   "source": [
    "a+b"
   ]
  },
  {
   "cell_type": "code",
   "execution_count": 126,
   "id": "23c4af84-c71d-4eaa-aba5-12c30ae83ed5",
   "metadata": {},
   "outputs": [
    {
     "data": {
      "text/plain": [
       "-10"
      ]
     },
     "execution_count": 126,
     "metadata": {},
     "output_type": "execute_result"
    }
   ],
   "source": [
    "a-b"
   ]
  },
  {
   "cell_type": "code",
   "execution_count": 128,
   "id": "11691b9e-274b-42a7-9785-17e494b5e2d1",
   "metadata": {},
   "outputs": [
    {
     "data": {
      "text/plain": [
       "200"
      ]
     },
     "execution_count": 128,
     "metadata": {},
     "output_type": "execute_result"
    }
   ],
   "source": [
    "a*b"
   ]
  },
  {
   "cell_type": "code",
   "execution_count": 130,
   "id": "19211a78-84e0-4e6b-802e-428493dd0cc5",
   "metadata": {},
   "outputs": [
    {
     "data": {
      "text/plain": [
       "0.5"
      ]
     },
     "execution_count": 130,
     "metadata": {},
     "output_type": "execute_result"
    }
   ],
   "source": [
    "a/b"
   ]
  },
  {
   "cell_type": "code",
   "execution_count": 136,
   "id": "2beef47e-8e2d-4c48-af1c-9081477fbe75",
   "metadata": {},
   "outputs": [],
   "source": [
    "# relational operator\n",
    "# <, >, ==, !="
   ]
  },
  {
   "cell_type": "code",
   "execution_count": 138,
   "id": "7126cd16-d563-42dd-b63a-80608d35abae",
   "metadata": {},
   "outputs": [],
   "source": [
    "a = 50\n",
    "b = 100"
   ]
  },
  {
   "cell_type": "code",
   "execution_count": 140,
   "id": "bf53c50a-254e-4bc2-abac-472998fcc893",
   "metadata": {},
   "outputs": [
    {
     "data": {
      "text/plain": [
       "True"
      ]
     },
     "execution_count": 140,
     "metadata": {},
     "output_type": "execute_result"
    }
   ],
   "source": [
    "a < b"
   ]
  },
  {
   "cell_type": "code",
   "execution_count": 142,
   "id": "0b864764-d0b9-48cd-bc8d-89c6bbcd555f",
   "metadata": {},
   "outputs": [
    {
     "data": {
      "text/plain": [
       "False"
      ]
     },
     "execution_count": 142,
     "metadata": {},
     "output_type": "execute_result"
    }
   ],
   "source": [
    "a > b"
   ]
  },
  {
   "cell_type": "code",
   "execution_count": 144,
   "id": "d86eb399-00f7-43aa-979c-820ddda67228",
   "metadata": {},
   "outputs": [
    {
     "data": {
      "text/plain": [
       "False"
      ]
     },
     "execution_count": 144,
     "metadata": {},
     "output_type": "execute_result"
    }
   ],
   "source": [
    "a == b"
   ]
  },
  {
   "cell_type": "code",
   "execution_count": 146,
   "id": "07184a59-6a33-432b-9f86-dc4b220d2076",
   "metadata": {},
   "outputs": [
    {
     "data": {
      "text/plain": [
       "True"
      ]
     },
     "execution_count": 146,
     "metadata": {},
     "output_type": "execute_result"
    }
   ],
   "source": [
    "a != b"
   ]
  },
  {
   "cell_type": "code",
   "execution_count": 150,
   "id": "09b9d3a5-d45c-4ec7-ac37-3c9183e6ef0d",
   "metadata": {},
   "outputs": [],
   "source": [
    "# logical operator\n",
    "# & |"
   ]
  },
  {
   "cell_type": "code",
   "execution_count": 152,
   "id": "bce009a7-3275-4dfc-b59e-e8a89283b569",
   "metadata": {},
   "outputs": [],
   "source": [
    "a = True\n",
    "b = False"
   ]
  },
  {
   "cell_type": "code",
   "execution_count": 154,
   "id": "942cd22a-3c90-4d5a-ab10-c81574e86e9a",
   "metadata": {},
   "outputs": [
    {
     "data": {
      "text/plain": [
       "True"
      ]
     },
     "execution_count": 154,
     "metadata": {},
     "output_type": "execute_result"
    }
   ],
   "source": [
    "a & a"
   ]
  },
  {
   "cell_type": "code",
   "execution_count": 156,
   "id": "f6c889d0-e0b2-4f94-b6ce-9dd6a8f9794a",
   "metadata": {},
   "outputs": [
    {
     "data": {
      "text/plain": [
       "False"
      ]
     },
     "execution_count": 156,
     "metadata": {},
     "output_type": "execute_result"
    }
   ],
   "source": [
    "a & b"
   ]
  },
  {
   "cell_type": "code",
   "execution_count": 158,
   "id": "bbfb6b2b-80d9-4aa5-80f9-abd64d7b1a8e",
   "metadata": {},
   "outputs": [
    {
     "data": {
      "text/plain": [
       "True"
      ]
     },
     "execution_count": 158,
     "metadata": {},
     "output_type": "execute_result"
    }
   ],
   "source": [
    "a | b"
   ]
  },
  {
   "cell_type": "code",
   "execution_count": 160,
   "id": "59eb723b-ef20-401a-a899-6a65ea9005e8",
   "metadata": {},
   "outputs": [
    {
     "data": {
      "text/plain": [
       "True"
      ]
     },
     "execution_count": 160,
     "metadata": {},
     "output_type": "execute_result"
    }
   ],
   "source": [
    "b | a"
   ]
  },
  {
   "cell_type": "code",
   "execution_count": 162,
   "id": "f37fd6c0-b70d-4ece-9fa5-0e66bde6c9f9",
   "metadata": {},
   "outputs": [
    {
     "data": {
      "text/plain": [
       "False"
      ]
     },
     "execution_count": 162,
     "metadata": {},
     "output_type": "execute_result"
    }
   ],
   "source": [
    "b | b"
   ]
  },
  {
   "cell_type": "code",
   "execution_count": 166,
   "id": "0648cc38-3352-40fa-b0f5-f2823ed130dd",
   "metadata": {},
   "outputs": [],
   "source": [
    "# python tokens\n",
    "# smallest meaningfull component in a program\n",
    "#1. keywords, 2. identifiers, 3. literals, 4.operators"
   ]
  },
  {
   "cell_type": "code",
   "execution_count": 192,
   "id": "1602c1ab-bfb1-4ed4-85dc-923ab02beed4",
   "metadata": {},
   "outputs": [],
   "source": [
    "# 1. keywords\n",
    "# keywords are special reserved words\n",
    "# True, if, False, class, etc"
   ]
  },
  {
   "cell_type": "code",
   "execution_count": 194,
   "id": "4760ded6-2f19-4e8d-8be6-2e7f7e14d77c",
   "metadata": {},
   "outputs": [],
   "source": [
    "# 2. identifiers\n",
    "# identifers are name used for variables, function, or objects\n",
    "# rules"
   ]
  },
  {
   "cell_type": "code",
   "execution_count": 196,
   "id": "2e0e462f-3245-46f7-b5c2-512776f453dc",
   "metadata": {},
   "outputs": [
    {
     "data": {
      "text/plain": [
       "'zain'"
      ]
     },
     "execution_count": 196,
     "metadata": {},
     "output_type": "execute_result"
    }
   ],
   "source": [
    "# 1. no special character expect _(underscore)\n",
    "_name = \"zain\"\n",
    "_name"
   ]
  },
  {
   "cell_type": "code",
   "execution_count": 198,
   "id": "b6d22d40-2570-45e6-bee5-268db18565ab",
   "metadata": {},
   "outputs": [],
   "source": [
    "# 2.identifiers are case senstive"
   ]
  },
  {
   "cell_type": "code",
   "execution_count": 200,
   "id": "98f429e0-d957-40d1-98d8-0452feb51ebc",
   "metadata": {},
   "outputs": [
    {
     "data": {
      "text/plain": [
       "('zain', 'akram')"
      ]
     },
     "execution_count": 200,
     "metadata": {},
     "output_type": "execute_result"
    }
   ],
   "source": [
    "name = \"zain\"\n",
    "Name = \"akram\"\n",
    "(name, Name)"
   ]
  },
  {
   "cell_type": "code",
   "execution_count": 202,
   "id": "0a05f49b-6e1f-4a8d-8eca-2f85c6d7a75a",
   "metadata": {},
   "outputs": [],
   "source": [
    " # 3. first letter can't be a number\n",
    "# 4name = \"zain\""
   ]
  },
  {
   "cell_type": "code",
   "execution_count": 204,
   "id": "1de1e5dc-4913-4c2b-b8b9-a163c4eaba27",
   "metadata": {},
   "outputs": [],
   "source": [
    "# 3. literals\n",
    "# literals are constant in python"
   ]
  },
  {
   "cell_type": "code",
   "execution_count": 208,
   "id": "fb513afe-bf73-433a-9fb6-5c0e40afa661",
   "metadata": {},
   "outputs": [],
   "source": [
    "name = \"zain\"\n",
    "# here zain is a literals we can't change it"
   ]
  },
  {
   "cell_type": "code",
   "execution_count": 226,
   "id": "4cec0785-9e8f-4d4e-ad70-23937a5a847f",
   "metadata": {},
   "outputs": [],
   "source": [
    "# strings\n",
    "# strings are sequance of characters enclosed within 'single quotes', \"double quotes\" or ''' tripple quotes'''"
   ]
  },
  {
   "cell_type": "code",
   "execution_count": 228,
   "id": "614846ca-449c-4cb8-ac30-39a70e8b6d88",
   "metadata": {},
   "outputs": [
    {
     "data": {
      "text/plain": [
       "'this is my first string'"
      ]
     },
     "execution_count": 228,
     "metadata": {},
     "output_type": "execute_result"
    }
   ],
   "source": [
    "str1 = 'this is my first string'\n",
    "str1"
   ]
  },
  {
   "cell_type": "code",
   "execution_count": 230,
   "id": "a688d118-a99a-49cd-a5a8-736f449b8ec9",
   "metadata": {},
   "outputs": [
    {
     "data": {
      "text/plain": [
       "'this is my second string'"
      ]
     },
     "execution_count": 230,
     "metadata": {},
     "output_type": "execute_result"
    }
   ],
   "source": [
    "str2 = \"this is my second string\"\n",
    "str2"
   ]
  },
  {
   "cell_type": "code",
   "execution_count": 224,
   "id": "def3bbf0-6fab-4933-ba78-5a18e3873904",
   "metadata": {},
   "outputs": [
    {
     "data": {
      "text/plain": [
       "' this is\\nmy multiple\\nlines string '"
      ]
     },
     "execution_count": 224,
     "metadata": {},
     "output_type": "execute_result"
    }
   ],
   "source": [
    "str3 = ''' this is\n",
    "my multiple\n",
    "lines string '''\n",
    "\n",
    "str3"
   ]
  },
  {
   "cell_type": "code",
   "execution_count": 232,
   "id": "70841924-5b5a-4943-aa69-378d044eaad4",
   "metadata": {},
   "outputs": [],
   "source": [
    "# extracting individual chracter"
   ]
  },
  {
   "cell_type": "code",
   "execution_count": 234,
   "id": "b3682528-ff6f-49f9-a29b-be9348823a2c",
   "metadata": {},
   "outputs": [
    {
     "data": {
      "text/plain": [
       "'Johan is a doctor'"
      ]
     },
     "execution_count": 234,
     "metadata": {},
     "output_type": "execute_result"
    }
   ],
   "source": [
    "my_string = \"Johan is a doctor\"\n",
    "my_string"
   ]
  },
  {
   "cell_type": "code",
   "execution_count": 240,
   "id": "a46b2d99-3ced-4351-8d42-7b1ac4216ccf",
   "metadata": {},
   "outputs": [
    {
     "data": {
      "text/plain": [
       "'J'"
      ]
     },
     "execution_count": 240,
     "metadata": {},
     "output_type": "execute_result"
    }
   ],
   "source": [
    "# first character\n",
    "my_string[0]"
   ]
  },
  {
   "cell_type": "code",
   "execution_count": 242,
   "id": "322c70d3-42d4-489d-b556-31c390034c28",
   "metadata": {},
   "outputs": [
    {
     "data": {
      "text/plain": [
       "'r'"
      ]
     },
     "execution_count": 242,
     "metadata": {},
     "output_type": "execute_result"
    }
   ],
   "source": [
    "# last character\n",
    "my_string[-1]"
   ]
  },
  {
   "cell_type": "code",
   "execution_count": 244,
   "id": "7e2fa9f2-b75e-4277-a105-51d32fa5e554",
   "metadata": {},
   "outputs": [
    {
     "data": {
      "text/plain": [
       "'n is a d'"
      ]
     },
     "execution_count": 244,
     "metadata": {},
     "output_type": "execute_result"
    }
   ],
   "source": [
    "# range chracters\n",
    "my_string[4:12]"
   ]
  },
  {
   "cell_type": "code",
   "execution_count": 246,
   "id": "e3a45ea0-2f0b-4dcb-9d0d-5d009c3f16f8",
   "metadata": {},
   "outputs": [],
   "source": [
    "# string functions"
   ]
  },
  {
   "cell_type": "code",
   "execution_count": 248,
   "id": "87564aa5-0b54-448f-abab-f05f65c2c950",
   "metadata": {},
   "outputs": [
    {
     "data": {
      "text/plain": [
       "17"
      ]
     },
     "execution_count": 248,
     "metadata": {},
     "output_type": "execute_result"
    }
   ],
   "source": [
    "# 1. length\n",
    "len(my_string)"
   ]
  },
  {
   "cell_type": "code",
   "execution_count": 252,
   "id": "657997ed-ec41-4351-bfb9-b12ea1a6a46e",
   "metadata": {},
   "outputs": [
    {
     "data": {
      "text/plain": [
       "'johan is a doctor'"
      ]
     },
     "execution_count": 252,
     "metadata": {},
     "output_type": "execute_result"
    }
   ],
   "source": [
    "# 2. lower case\n",
    "my_string.lower()"
   ]
  },
  {
   "cell_type": "code",
   "execution_count": 262,
   "id": "7f700a46-1802-443f-bd7c-a16824b81592",
   "metadata": {},
   "outputs": [
    {
     "data": {
      "text/plain": [
       "'JOHAN IS A DOCTOR'"
      ]
     },
     "execution_count": 262,
     "metadata": {},
     "output_type": "execute_result"
    }
   ],
   "source": [
    "# 3. upper case\n",
    "my_string.upper()"
   ]
  },
  {
   "cell_type": "code",
   "execution_count": 264,
   "id": "42cfa67e-8c30-4ee0-a785-ffd126089080",
   "metadata": {},
   "outputs": [
    {
     "data": {
      "text/plain": [
       "'Jehan is a decter'"
      ]
     },
     "execution_count": 264,
     "metadata": {},
     "output_type": "execute_result"
    }
   ],
   "source": [
    "# 4. replace a substring\n",
    "my_string.replace('o','e')"
   ]
  },
  {
   "cell_type": "code",
   "execution_count": 270,
   "id": "b172e4fd-2618-4efc-b3fc-451b4fc71c5b",
   "metadata": {},
   "outputs": [
    {
     "data": {
      "text/plain": [
       "'my new string my new string 300 300 300'"
      ]
     },
     "execution_count": 270,
     "metadata": {},
     "output_type": "execute_result"
    }
   ],
   "source": [
    "# 5. count a specific string\n",
    "new_string = \"my new string my new string 300 300 300\"\n",
    "new_string"
   ]
  },
  {
   "cell_type": "code",
   "execution_count": 272,
   "id": "2c33273a-a69a-4581-8728-3b8d006044a0",
   "metadata": {},
   "outputs": [
    {
     "data": {
      "text/plain": [
       "3"
      ]
     },
     "execution_count": 272,
     "metadata": {},
     "output_type": "execute_result"
    }
   ],
   "source": [
    "new_string.count('300')"
   ]
  },
  {
   "cell_type": "code",
   "execution_count": 276,
   "id": "b3545abc-1f13-4461-9fb1-2144c5532914",
   "metadata": {},
   "outputs": [
    {
     "data": {
      "text/plain": [
       "4"
      ]
     },
     "execution_count": 276,
     "metadata": {},
     "output_type": "execute_result"
    }
   ],
   "source": [
    "new_string.count('n')"
   ]
  },
  {
   "cell_type": "code",
   "execution_count": 280,
   "id": "e071204f-2cc7-4cfb-9188-6ecfa14a2912",
   "metadata": {},
   "outputs": [
    {
     "data": {
      "text/plain": [
       "0"
      ]
     },
     "execution_count": 280,
     "metadata": {},
     "output_type": "execute_result"
    }
   ],
   "source": [
    "# 6. finding the index of substring\n",
    "new_string.find(\"my\")"
   ]
  },
  {
   "cell_type": "code",
   "execution_count": 284,
   "id": "ac3578db-d064-4e69-b993-25e14966577b",
   "metadata": {},
   "outputs": [
    {
     "data": {
      "text/plain": [
       "28"
      ]
     },
     "execution_count": 284,
     "metadata": {},
     "output_type": "execute_result"
    }
   ],
   "source": [
    "# it give us first character index\n",
    "new_string.find(\"300\")"
   ]
  },
  {
   "cell_type": "code",
   "execution_count": 288,
   "id": "2158793d-842d-4490-90b1-01894f23b499",
   "metadata": {},
   "outputs": [
    {
     "data": {
      "text/plain": [
       "'i like apples, bananas, oranges'"
      ]
     },
     "execution_count": 288,
     "metadata": {},
     "output_type": "execute_result"
    }
   ],
   "source": [
    "# 7. splitting a string\n",
    "new_str = \"i like apples, bananas, oranges\"\n",
    "new_str"
   ]
  },
  {
   "cell_type": "code",
   "execution_count": 290,
   "id": "ee242933-4be9-4ff5-985e-a00a44eff0c5",
   "metadata": {},
   "outputs": [
    {
     "data": {
      "text/plain": [
       "['i like apples', ' bananas', ' oranges']"
      ]
     },
     "execution_count": 290,
     "metadata": {},
     "output_type": "execute_result"
    }
   ],
   "source": [
    "new_str.split(',')"
   ]
  },
  {
   "cell_type": "code",
   "execution_count": 292,
   "id": "47a0c0d1-9bac-427b-b7af-ebd3d21f8172",
   "metadata": {},
   "outputs": [
    {
     "data": {
      "text/plain": [
       "['i like ', 'pples, b', 'n', 'n', 's, or', 'nges']"
      ]
     },
     "execution_count": 292,
     "metadata": {},
     "output_type": "execute_result"
    }
   ],
   "source": [
    "new_str.split('a')"
   ]
  },
  {
   "cell_type": "code",
   "execution_count": 294,
   "id": "9927c283-8bb8-4105-97ec-809910f2491e",
   "metadata": {},
   "outputs": [],
   "source": [
    "# data structurs in python"
   ]
  },
  {
   "cell_type": "code",
   "execution_count": 49,
   "id": "92abbd66-bc78-481c-bd14-fa2301e14847",
   "metadata": {},
   "outputs": [],
   "source": [
    "# 1. tuple\n",
    "# tuple is an ordered collection of elements enclosed within ()\n",
    "# tuple are immutable --- immutable mean you can not modifiy it after that"
   ]
  },
  {
   "cell_type": "code",
   "execution_count": 1,
   "id": "23923277-6236-4d0a-95ec-cc0504117ca1",
   "metadata": {},
   "outputs": [
    {
     "data": {
      "text/plain": [
       "(1, 'a', True, (3+7j))"
      ]
     },
     "execution_count": 1,
     "metadata": {},
     "output_type": "execute_result"
    }
   ],
   "source": [
    "tup1 = (1,'a', True, 3+7j)\n",
    "tup1"
   ]
  },
  {
   "cell_type": "code",
   "execution_count": 3,
   "id": "bc688df5-acd3-4a08-94f8-90f0ebe143f7",
   "metadata": {},
   "outputs": [
    {
     "data": {
      "text/plain": [
       "tuple"
      ]
     },
     "execution_count": 3,
     "metadata": {},
     "output_type": "execute_result"
    }
   ],
   "source": [
    "type(tup1)"
   ]
  },
  {
   "cell_type": "code",
   "execution_count": 5,
   "id": "658fae45-a35c-40f4-8d55-184e87937704",
   "metadata": {},
   "outputs": [
    {
     "data": {
      "text/plain": [
       "1"
      ]
     },
     "execution_count": 5,
     "metadata": {},
     "output_type": "execute_result"
    }
   ],
   "source": [
    "# extracting individual element\n",
    "tup1[0]"
   ]
  },
  {
   "cell_type": "code",
   "execution_count": 9,
   "id": "f9d7bee8-2cb2-41fe-8b6c-7cdc2072fcaa",
   "metadata": {},
   "outputs": [
    {
     "data": {
      "text/plain": [
       "(3+7j)"
      ]
     },
     "execution_count": 9,
     "metadata": {},
     "output_type": "execute_result"
    }
   ],
   "source": [
    "tup1[-1]"
   ]
  },
  {
   "cell_type": "code",
   "execution_count": 11,
   "id": "901e1497-f9e6-4f8f-a17d-486f7407bc1c",
   "metadata": {},
   "outputs": [
    {
     "data": {
      "text/plain": [
       "('a', True)"
      ]
     },
     "execution_count": 11,
     "metadata": {},
     "output_type": "execute_result"
    }
   ],
   "source": [
    "tup1[1:3]"
   ]
  },
  {
   "cell_type": "code",
   "execution_count": 15,
   "id": "67454f9f-c8e8-4b48-a64a-3ca5890a648f",
   "metadata": {},
   "outputs": [
    {
     "data": {
      "text/plain": [
       "4"
      ]
     },
     "execution_count": 15,
     "metadata": {},
     "output_type": "execute_result"
    }
   ],
   "source": [
    "# length of tuple\n",
    "len(tup1)"
   ]
  },
  {
   "cell_type": "code",
   "execution_count": 27,
   "id": "599154d5-76cb-4b82-972a-a311a133a951",
   "metadata": {},
   "outputs": [
    {
     "data": {
      "text/plain": [
       "((1, 2, 3), (4, 5))"
      ]
     },
     "execution_count": 27,
     "metadata": {},
     "output_type": "execute_result"
    }
   ],
   "source": [
    "# concatenating the 2 tuple\n",
    "tup1 = (1,2,3)\n",
    "tup2 = (4,5)\n",
    "tup1 , tup2"
   ]
  },
  {
   "cell_type": "code",
   "execution_count": 29,
   "id": "78d6e1fb-e2a4-48e0-bd3c-b32035236fea",
   "metadata": {},
   "outputs": [
    {
     "data": {
      "text/plain": [
       "(4, 5, 1, 2, 3)"
      ]
     },
     "execution_count": 29,
     "metadata": {},
     "output_type": "execute_result"
    }
   ],
   "source": [
    "tup2 + tup1"
   ]
  },
  {
   "cell_type": "code",
   "execution_count": 33,
   "id": "05dddf9c-1c5f-45b3-b383-e95e1cd96648",
   "metadata": {},
   "outputs": [
    {
     "data": {
      "text/plain": [
       "(1, 2, 3, 1, 2, 3)"
      ]
     },
     "execution_count": 33,
     "metadata": {},
     "output_type": "execute_result"
    }
   ],
   "source": [
    "# repeating tuple elements\n",
    "tup1 * 2"
   ]
  },
  {
   "cell_type": "code",
   "execution_count": 37,
   "id": "58617f50-e4b3-40cb-960a-dad283e5ff06",
   "metadata": {},
   "outputs": [
    {
     "data": {
      "text/plain": [
       "(1, 2, 3, 1, 2, 3, 4, 5)"
      ]
     },
     "execution_count": 37,
     "metadata": {},
     "output_type": "execute_result"
    }
   ],
   "source": [
    "# repeating and concatenating\n",
    "tup1 * 2 + tup2"
   ]
  },
  {
   "cell_type": "code",
   "execution_count": 39,
   "id": "dbacf57a-e8af-4001-a9b6-76fe4789b253",
   "metadata": {},
   "outputs": [
    {
     "data": {
      "text/plain": [
       "1"
      ]
     },
     "execution_count": 39,
     "metadata": {},
     "output_type": "execute_result"
    }
   ],
   "source": [
    "# minimum value of tuple\n",
    "min(tup1)"
   ]
  },
  {
   "cell_type": "code",
   "execution_count": 43,
   "id": "781674e9-a9fb-43e2-a946-686cfcc8148a",
   "metadata": {},
   "outputs": [
    {
     "data": {
      "text/plain": [
       "3"
      ]
     },
     "execution_count": 43,
     "metadata": {},
     "output_type": "execute_result"
    }
   ],
   "source": [
    "# maximum value of tuple\n",
    "max(tup1)"
   ]
  },
  {
   "cell_type": "code",
   "execution_count": 47,
   "id": "aff4a5ec-b6ac-40e8-8570-da6863d44ada",
   "metadata": {},
   "outputs": [],
   "source": [
    "# 2. list\n",
    "# list is an ordered collection of elements enclosed within []\n",
    "# list are mutable -- mutable mean you can modifiy it after that"
   ]
  },
  {
   "cell_type": "code",
   "execution_count": 51,
   "id": "671fe77b-7377-4de0-87c8-b32b9cd57c71",
   "metadata": {},
   "outputs": [
    {
     "data": {
      "text/plain": [
       "[1, 'nice', 2.31, True]"
      ]
     },
     "execution_count": 51,
     "metadata": {},
     "output_type": "execute_result"
    }
   ],
   "source": [
    "list1 = [1, 'nice', 2.31, True]\n",
    "list1"
   ]
  },
  {
   "cell_type": "code",
   "execution_count": 53,
   "id": "5795455f-f271-402e-8d3d-3b657e5c7dd2",
   "metadata": {},
   "outputs": [
    {
     "data": {
      "text/plain": [
       "list"
      ]
     },
     "execution_count": 53,
     "metadata": {},
     "output_type": "execute_result"
    }
   ],
   "source": [
    "type(list1)"
   ]
  },
  {
   "cell_type": "code",
   "execution_count": 55,
   "id": "0c041b31-2a96-4bd5-878f-4490ea9c8703",
   "metadata": {},
   "outputs": [
    {
     "data": {
      "text/plain": [
       "'nice'"
      ]
     },
     "execution_count": 55,
     "metadata": {},
     "output_type": "execute_result"
    }
   ],
   "source": [
    "# extarcting indevidual element\n",
    "list1[1]"
   ]
  },
  {
   "cell_type": "code",
   "execution_count": 61,
   "id": "81e08466-adb7-45ce-97f2-1ec5d110d30d",
   "metadata": {},
   "outputs": [
    {
     "data": {
      "text/plain": [
       "True"
      ]
     },
     "execution_count": 61,
     "metadata": {},
     "output_type": "execute_result"
    }
   ],
   "source": [
    "list1[-1]"
   ]
  },
  {
   "cell_type": "code",
   "execution_count": 63,
   "id": "561949b6-906c-46ba-9192-2cd3fb91c2c3",
   "metadata": {},
   "outputs": [
    {
     "data": {
      "text/plain": [
       "[1, 'nice']"
      ]
     },
     "execution_count": 63,
     "metadata": {},
     "output_type": "execute_result"
    }
   ],
   "source": [
    "list1[0:2]"
   ]
  },
  {
   "cell_type": "code",
   "execution_count": 65,
   "id": "7133503e-a351-43ef-a454-6e5f36cbd4a7",
   "metadata": {},
   "outputs": [],
   "source": [
    "# modifiying a list"
   ]
  },
  {
   "cell_type": "code",
   "execution_count": 67,
   "id": "53d16502-4802-4f89-aa53-711526453020",
   "metadata": {},
   "outputs": [
    {
     "data": {
      "text/plain": [
       "[1, 'zain', 2.31, True]"
      ]
     },
     "execution_count": 67,
     "metadata": {},
     "output_type": "execute_result"
    }
   ],
   "source": [
    "# change an element\n",
    "list1[1] = \"zain\"\n",
    "list1"
   ]
  },
  {
   "cell_type": "code",
   "execution_count": 73,
   "id": "940a2819-2e28-4c86-88db-3753c0c2a77b",
   "metadata": {},
   "outputs": [
    {
     "data": {
      "text/plain": [
       "[1, 'zain', 2.31, True, (2+3j), (2+3j), (2+3j)]"
      ]
     },
     "execution_count": 73,
     "metadata": {},
     "output_type": "execute_result"
    }
   ],
   "source": [
    "# adding an element\n",
    "list1.append(2+3j)\n",
    "list1"
   ]
  },
  {
   "cell_type": "code",
   "execution_count": 81,
   "id": "30ba6c05-3fc2-48cc-8f7f-fad6dde9981c",
   "metadata": {},
   "outputs": [
    {
     "data": {
      "text/plain": [
       "[1, 'zain', 2.31, True]"
      ]
     },
     "execution_count": 81,
     "metadata": {},
     "output_type": "execute_result"
    }
   ],
   "source": [
    "# deleting an element\n",
    "list1.pop()\n",
    "list1"
   ]
  },
  {
   "cell_type": "code",
   "execution_count": 83,
   "id": "fc801f5c-8a53-4b76-b936-ac5155ab1613",
   "metadata": {},
   "outputs": [
    {
     "data": {
      "text/plain": [
       "[True, 2.31, 'zain', 1]"
      ]
     },
     "execution_count": 83,
     "metadata": {},
     "output_type": "execute_result"
    }
   ],
   "source": [
    "# reversing element of list\n",
    "list1.reverse()\n",
    "list1"
   ]
  },
  {
   "cell_type": "code",
   "execution_count": 85,
   "id": "6c0a2d89-1635-4be7-8772-040b208b183f",
   "metadata": {},
   "outputs": [
    {
     "data": {
      "text/plain": [
       "[True, 'akram', 2.31, 'zain', 1]"
      ]
     },
     "execution_count": 85,
     "metadata": {},
     "output_type": "execute_result"
    }
   ],
   "source": [
    "# inserting element in a specific index\n",
    "list1.insert(1,\"akram\")\n",
    "list1"
   ]
  },
  {
   "cell_type": "code",
   "execution_count": 89,
   "id": "9a476a75-0fba-415b-aaf8-a885ae7453cc",
   "metadata": {},
   "outputs": [
    {
     "data": {
      "text/plain": [
       "['apple', 'banana', 'mango', 'orange']"
      ]
     },
     "execution_count": 89,
     "metadata": {},
     "output_type": "execute_result"
    }
   ],
   "source": [
    "# sorting a list\n",
    "newlist = [\"mango\", \"apple\", \"banana\", \"orange\"]\n",
    "newlist.sort()\n",
    "newlist"
   ]
  },
  {
   "cell_type": "code",
   "execution_count": 91,
   "id": "0b72726b-82dc-46ad-be53-a4317370cc93",
   "metadata": {},
   "outputs": [
    {
     "data": {
      "text/plain": [
       "[True, 'akram', 2.31, 'zain', 1, 'apple', 'banana', 'mango', 'orange']"
      ]
     },
     "execution_count": 91,
     "metadata": {},
     "output_type": "execute_result"
    }
   ],
   "source": [
    "# conactenating list\n",
    "list1 + newlist"
   ]
  },
  {
   "cell_type": "code",
   "execution_count": 93,
   "id": "39555604-09e6-432b-8bda-88efb4e1ef3f",
   "metadata": {},
   "outputs": [
    {
     "data": {
      "text/plain": [
       "['apple',\n",
       " 'banana',\n",
       " 'mango',\n",
       " 'orange',\n",
       " 'apple',\n",
       " 'banana',\n",
       " 'mango',\n",
       " 'orange',\n",
       " 'apple',\n",
       " 'banana',\n",
       " 'mango',\n",
       " 'orange']"
      ]
     },
     "execution_count": 93,
     "metadata": {},
     "output_type": "execute_result"
    }
   ],
   "source": [
    "# repeating element\n",
    "newlist*3"
   ]
  },
  {
   "cell_type": "code",
   "execution_count": 95,
   "id": "e44ea86e-e1b3-4a16-bfc1-98b0cb48144a",
   "metadata": {},
   "outputs": [],
   "source": [
    "# 3. dictionary in python\n",
    "# dictionary is unorder collection of key-value pairs enclosed with {}\n",
    "# dictionary is mutable"
   ]
  },
  {
   "cell_type": "code",
   "execution_count": 99,
   "id": "99a2afdc-3d3a-498b-bbea-8860a0542bb0",
   "metadata": {},
   "outputs": [
    {
     "data": {
      "text/plain": [
       "{'apple': 10, 'banana': 20}"
      ]
     },
     "execution_count": 99,
     "metadata": {},
     "output_type": "execute_result"
    }
   ],
   "source": [
    "dict1 = {\"apple\":10, \"banana\":20}\n",
    "dict1"
   ]
  },
  {
   "cell_type": "code",
   "execution_count": 101,
   "id": "a0bb5a0b-6e55-4c0d-a8dd-42e0e8dbf1cc",
   "metadata": {},
   "outputs": [
    {
     "data": {
      "text/plain": [
       "dict"
      ]
     },
     "execution_count": 101,
     "metadata": {},
     "output_type": "execute_result"
    }
   ],
   "source": [
    "type(dict1)"
   ]
  },
  {
   "cell_type": "code",
   "execution_count": 107,
   "id": "33d2a156-5cf7-4bae-aff2-a701e68762f5",
   "metadata": {},
   "outputs": [
    {
     "data": {
      "text/plain": [
       "dict_keys(['apple', 'banana'])"
      ]
     },
     "execution_count": 107,
     "metadata": {},
     "output_type": "execute_result"
    }
   ],
   "source": [
    "# extracting keys\n",
    "dict1.keys()"
   ]
  },
  {
   "cell_type": "code",
   "execution_count": 109,
   "id": "66dba7b8-44ab-413d-bb15-faee657fd0ad",
   "metadata": {},
   "outputs": [
    {
     "data": {
      "text/plain": [
       "dict_values([10, 20])"
      ]
     },
     "execution_count": 109,
     "metadata": {},
     "output_type": "execute_result"
    }
   ],
   "source": [
    "# extracting values\n",
    "dict1.values()"
   ]
  },
  {
   "cell_type": "code",
   "execution_count": 111,
   "id": "c1d9fe54-aed0-4b2e-af5d-b9014be8925f",
   "metadata": {},
   "outputs": [
    {
     "data": {
      "text/plain": [
       "{'apple': 10, 'banana': 20, 'orange': 30}"
      ]
     },
     "execution_count": 111,
     "metadata": {},
     "output_type": "execute_result"
    }
   ],
   "source": [
    "# adding a new element\n",
    "dict1[\"orange\"] = 30\n",
    "dict1"
   ]
  },
  {
   "cell_type": "code",
   "execution_count": 113,
   "id": "81e15fd3-3943-4b40-8e8f-350fa83525e8",
   "metadata": {},
   "outputs": [
    {
     "data": {
      "text/plain": [
       "{'apple': 50, 'banana': 20, 'orange': 30}"
      ]
     },
     "execution_count": 113,
     "metadata": {},
     "output_type": "execute_result"
    }
   ],
   "source": [
    "# changing a exsiting element\n",
    "dict1[\"apple\"] = 50\n",
    "dict1"
   ]
  },
  {
   "cell_type": "code",
   "execution_count": 115,
   "id": "ecc6c360-e1af-439a-a5f2-18fa2494f37b",
   "metadata": {},
   "outputs": [
    {
     "data": {
      "text/plain": [
       "{'grapes': 60, 'mango': 10}"
      ]
     },
     "execution_count": 115,
     "metadata": {},
     "output_type": "execute_result"
    }
   ],
   "source": [
    "# update one dictionary element to other\n",
    "newdic = {\"grapes\":60, \"mango\":10}\n",
    "newdic"
   ]
  },
  {
   "cell_type": "code",
   "execution_count": 119,
   "id": "6bc0b8a2-860f-4f36-954e-3c41bfb74d67",
   "metadata": {},
   "outputs": [
    {
     "data": {
      "text/plain": [
       "{'apple': 50, 'banana': 20, 'orange': 30, 'grapes': 60, 'mango': 10}"
      ]
     },
     "execution_count": 119,
     "metadata": {},
     "output_type": "execute_result"
    }
   ],
   "source": [
    "dict1.update(newdic)\n",
    "dict1"
   ]
  },
  {
   "cell_type": "code",
   "execution_count": 121,
   "id": "8ea84d3a-58fc-4e19-9289-ada06718665c",
   "metadata": {},
   "outputs": [
    {
     "data": {
      "text/plain": [
       "{'apple': 50, 'banana': 20, 'grapes': 60, 'mango': 10}"
      ]
     },
     "execution_count": 121,
     "metadata": {},
     "output_type": "execute_result"
    }
   ],
   "source": [
    "# poping an element\n",
    "dict1.pop(\"orange\")\n",
    "dict1"
   ]
  },
  {
   "cell_type": "code",
   "execution_count": 123,
   "id": "647992ef-acc2-4ef2-881f-e3794feb2d7d",
   "metadata": {},
   "outputs": [],
   "source": [
    "# 4. set in python\n",
    "# set is an unordered and unindexed collection of element enclosed with {}\n",
    "# duplicates are not allowed in set"
   ]
  },
  {
   "cell_type": "code",
   "execution_count": 125,
   "id": "83e6f335-ad62-41c4-864b-903064c9afa0",
   "metadata": {},
   "outputs": [
    {
     "data": {
      "text/plain": [
       "{1, 3.14, 'zain'}"
      ]
     },
     "execution_count": 125,
     "metadata": {},
     "output_type": "execute_result"
    }
   ],
   "source": [
    "set1 = {1, 3.14, \"zain\"}\n",
    "set1"
   ]
  },
  {
   "cell_type": "code",
   "execution_count": 129,
   "id": "98acaade-724b-403e-b429-cd4a2375359d",
   "metadata": {},
   "outputs": [
    {
     "data": {
      "text/plain": [
       "{1, 3.14, 'zain'}"
      ]
     },
     "execution_count": 129,
     "metadata": {},
     "output_type": "execute_result"
    }
   ],
   "source": [
    "set1 = {1, 3.14, \"zain\" , \"zain\", 3.14}\n",
    "set1"
   ]
  },
  {
   "cell_type": "code",
   "execution_count": 131,
   "id": "f6ae028d-1745-4a53-bf5f-f7d7ec638fc3",
   "metadata": {},
   "outputs": [
    {
     "data": {
      "text/plain": [
       "set"
      ]
     },
     "execution_count": 131,
     "metadata": {},
     "output_type": "execute_result"
    }
   ],
   "source": [
    "type(set1)"
   ]
  },
  {
   "cell_type": "code",
   "execution_count": 133,
   "id": "75c312fa-093d-4a97-a37e-0088be69ab07",
   "metadata": {},
   "outputs": [
    {
     "data": {
      "text/plain": [
       "{1, 3.14, 'akram', 'zain'}"
      ]
     },
     "execution_count": 133,
     "metadata": {},
     "output_type": "execute_result"
    }
   ],
   "source": [
    "# update one dictionary element with another\n",
    "set1.add(\"akram\")\n",
    "set1"
   ]
  },
  {
   "cell_type": "code",
   "execution_count": 135,
   "id": "2b725b87-84da-411e-9935-776f0fba2c34",
   "metadata": {},
   "outputs": [
    {
     "data": {
      "text/plain": [
       "{1, 10, 20, 3.14, 'akram', 'zain'}"
      ]
     },
     "execution_count": 135,
     "metadata": {},
     "output_type": "execute_result"
    }
   ],
   "source": [
    "# updating multiple element\n",
    "set1.update([10,20])\n",
    "set1"
   ]
  },
  {
   "cell_type": "code",
   "execution_count": 137,
   "id": "c7d64b56-3659-4f9e-aa82-52b8de72c99b",
   "metadata": {},
   "outputs": [
    {
     "data": {
      "text/plain": [
       "{1, 20, 3.14, 'akram', 'zain'}"
      ]
     },
     "execution_count": 137,
     "metadata": {},
     "output_type": "execute_result"
    }
   ],
   "source": [
    "# removing an element\n",
    "set1.remove(10)\n",
    "set1"
   ]
  },
  {
   "cell_type": "code",
   "execution_count": 143,
   "id": "19795b64-25a3-44cd-ba10-c57f356cd68f",
   "metadata": {},
   "outputs": [
    {
     "data": {
      "text/plain": [
       "{1, 20, 23, 3.14, 'akram', 'zain'}"
      ]
     },
     "execution_count": 143,
     "metadata": {},
     "output_type": "execute_result"
    }
   ],
   "source": [
    "# union of two sets\n",
    "newset = {1, 23}\n",
    "set1.union(newset)"
   ]
  },
  {
   "cell_type": "code",
   "execution_count": 145,
   "id": "4a54181b-5fbf-4090-b031-47c9b8921c28",
   "metadata": {},
   "outputs": [
    {
     "data": {
      "text/plain": [
       "{1}"
      ]
     },
     "execution_count": 145,
     "metadata": {},
     "output_type": "execute_result"
    }
   ],
   "source": [
    "# intersection of two sets\n",
    "set1.intersection(newset)"
   ]
  },
  {
   "cell_type": "code",
   "execution_count": 155,
   "id": "bf28bbe2-5705-4e89-b202-b5f3201be1cb",
   "metadata": {},
   "outputs": [],
   "source": [
    "# if statement"
   ]
  },
  {
   "cell_type": "code",
   "execution_count": 157,
   "id": "57fed19d-bbf8-404a-8dbe-650f98dd1a8e",
   "metadata": {},
   "outputs": [
    {
     "data": {
      "text/plain": [
       "(10, 20)"
      ]
     },
     "execution_count": 157,
     "metadata": {},
     "output_type": "execute_result"
    }
   ],
   "source": [
    "a = 10\n",
    "b = 20\n",
    "a, b"
   ]
  },
  {
   "cell_type": "code",
   "execution_count": 163,
   "id": "36af693e-208f-499e-9c6a-13ba1d1fdd8a",
   "metadata": {},
   "outputs": [
    {
     "name": "stdout",
     "output_type": "stream",
     "text": [
      "b is greater than a\n"
     ]
    }
   ],
   "source": [
    "if b>a:\n",
    "    print(\"b is greater than a\")"
   ]
  },
  {
   "cell_type": "code",
   "execution_count": 165,
   "id": "2835c7f5-e457-476b-9bad-d9ae93468bdd",
   "metadata": {},
   "outputs": [],
   "source": [
    "# if else statement"
   ]
  },
  {
   "cell_type": "code",
   "execution_count": 169,
   "id": "1c664507-3f45-46bd-a93f-856ff3d3d882",
   "metadata": {},
   "outputs": [
    {
     "name": "stdout",
     "output_type": "stream",
     "text": [
      "b is greater than a\n"
     ]
    }
   ],
   "source": [
    "if a>b:\n",
    "    print(\"a is greater than b\")\n",
    "else:\n",
    "    print(\"b is greater than a\")"
   ]
  },
  {
   "cell_type": "code",
   "execution_count": 171,
   "id": "5af038ba-60de-4ee4-912d-3133b5ed0197",
   "metadata": {},
   "outputs": [],
   "source": [
    "# if else if statement"
   ]
  },
  {
   "cell_type": "code",
   "execution_count": 173,
   "id": "536fa528-22a4-4f04-aeb2-e904c95ff6d9",
   "metadata": {},
   "outputs": [
    {
     "data": {
      "text/plain": [
       "(5, 10, 15)"
      ]
     },
     "execution_count": 173,
     "metadata": {},
     "output_type": "execute_result"
    }
   ],
   "source": [
    "a = 5\n",
    "b = 10\n",
    "c = 15\n",
    "a, b, c"
   ]
  },
  {
   "cell_type": "code",
   "execution_count": 175,
   "id": "4a821a0f-4fc5-4b0b-8916-89cc54519413",
   "metadata": {},
   "outputs": [
    {
     "name": "stdout",
     "output_type": "stream",
     "text": [
      "c is greater\n"
     ]
    }
   ],
   "source": [
    "if (a>b) & (a>c):\n",
    "    print(\"a is greater\")\n",
    "elif (b>c) & (b>c):\n",
    "    print(\"b is greater\")\n",
    "else:\n",
    "    print(\"c is greater\")"
   ]
  },
  {
   "cell_type": "code",
   "execution_count": 183,
   "id": "793a0f3e-0215-47f0-a067-ebb59db018aa",
   "metadata": {},
   "outputs": [],
   "source": [
    "# if else with tuple"
   ]
  },
  {
   "cell_type": "code",
   "execution_count": 185,
   "id": "8418bbdf-2041-4b80-b011-d2777918241c",
   "metadata": {},
   "outputs": [
    {
     "name": "stdout",
     "output_type": "stream",
     "text": [
      "value z is not present in tup1\n"
     ]
    }
   ],
   "source": [
    "tup1 = ('a', 'b', 'c')\n",
    "if 'z' in tup1:\n",
    "    print(\"value z is present in tup1\")\n",
    "else:\n",
    "    print(\"value z is not present in tup1\")"
   ]
  },
  {
   "cell_type": "code",
   "execution_count": 191,
   "id": "ad423d3c-8996-478b-a51c-d4f2c81ec98a",
   "metadata": {},
   "outputs": [],
   "source": [
    "# if with list"
   ]
  },
  {
   "cell_type": "code",
   "execution_count": 193,
   "id": "a06660cd-d4bb-4563-9f0d-a9c1cbdda66c",
   "metadata": {},
   "outputs": [
    {
     "data": {
      "text/plain": [
       "['a', 'z', 'c']"
      ]
     },
     "execution_count": 193,
     "metadata": {},
     "output_type": "execute_result"
    }
   ],
   "source": [
    "list1 = ['a', 'b', 'c']\n",
    "if list1[1]=='b':\n",
    "    list1[1]= 'z'\n",
    "list1"
   ]
  },
  {
   "cell_type": "code",
   "execution_count": 195,
   "id": "ca3aaeb8-bf4f-4827-80df-6e05830394d7",
   "metadata": {},
   "outputs": [],
   "source": [
    "# if with dictionary"
   ]
  },
  {
   "cell_type": "code",
   "execution_count": 197,
   "id": "504b9e69-81ff-41da-bcb1-2781e93e7653",
   "metadata": {},
   "outputs": [
    {
     "data": {
      "text/plain": [
       "{'k1': 10, 'k2': 20, 'k3': 30}"
      ]
     },
     "execution_count": 197,
     "metadata": {},
     "output_type": "execute_result"
    }
   ],
   "source": [
    "dic1 = {\"k1\": 10, \"k2\":20, \"k3\":30}\n",
    "dic1"
   ]
  },
  {
   "cell_type": "code",
   "execution_count": 204,
   "id": "03e8bc30-ded3-4c39-9668-4cb661044fdf",
   "metadata": {},
   "outputs": [
    {
     "data": {
      "text/plain": [
       "{'k1': 110, 'k2': 20, 'k3': 30}"
      ]
     },
     "execution_count": 204,
     "metadata": {},
     "output_type": "execute_result"
    }
   ],
   "source": [
    "if dic1[\"k1\"]==10:\n",
    "    dic1[\"k1\"]=dic1[\"k1\"]+100\n",
    "dic1"
   ]
  },
  {
   "cell_type": "code",
   "execution_count": 206,
   "id": "7c32569a-b76c-47e3-a9af-e8f1f7381a0e",
   "metadata": {},
   "outputs": [],
   "source": [
    "# looping statement\n",
    "# looping statements are used to repeat a task multiple times"
   ]
  },
  {
   "cell_type": "code",
   "execution_count": 208,
   "id": "bafb43ce-60c8-4d68-85ff-bca0d7ce3d45",
   "metadata": {},
   "outputs": [],
   "source": [
    "# while loop"
   ]
  },
  {
   "cell_type": "code",
   "execution_count": 214,
   "id": "f0e461f9-1ca9-4448-b65b-6c512042b4b5",
   "metadata": {},
   "outputs": [
    {
     "name": "stdout",
     "output_type": "stream",
     "text": [
      "1\n",
      "2\n",
      "3\n",
      "4\n",
      "5\n",
      "6\n",
      "7\n",
      "8\n",
      "9\n",
      "10\n"
     ]
    }
   ],
   "source": [
    "i=1\n",
    "while i<=10:\n",
    "    print(i)\n",
    "    i=i+1\n"
   ]
  },
  {
   "cell_type": "code",
   "execution_count": 220,
   "id": "7c546827-9a35-4615-ac1b-545070dbeb40",
   "metadata": {},
   "outputs": [
    {
     "name": "stdout",
     "output_type": "stream",
     "text": [
      "1 * 2 = 2\n",
      "2 * 2 = 4\n",
      "3 * 2 = 6\n",
      "4 * 2 = 8\n",
      "5 * 2 = 10\n",
      "6 * 2 = 12\n",
      "7 * 2 = 14\n",
      "8 * 2 = 16\n",
      "9 * 2 = 18\n",
      "10 * 2 = 20\n"
     ]
    }
   ],
   "source": [
    "i=1\n",
    "n=2\n",
    "while i<=10:\n",
    "    print(i ,\"*\", n ,\"=\", i*n)\n",
    "    i=i+1"
   ]
  },
  {
   "cell_type": "code",
   "execution_count": 222,
   "id": "10e265cd-ea68-40a6-bf24-204d1f2c1f7d",
   "metadata": {},
   "outputs": [],
   "source": [
    "# while with list"
   ]
  },
  {
   "cell_type": "code",
   "execution_count": 238,
   "id": "c8c5410c-7689-4340-beef-441bb3ae682b",
   "metadata": {},
   "outputs": [
    {
     "data": {
      "text/plain": [
       "[1, 2, 3, 4]"
      ]
     },
     "execution_count": 238,
     "metadata": {},
     "output_type": "execute_result"
    }
   ],
   "source": [
    "lis1 = [1,2,3,4]\n",
    "lis1"
   ]
  },
  {
   "cell_type": "code",
   "execution_count": 240,
   "id": "38c56a20-5524-4845-afda-f49240005f2f",
   "metadata": {},
   "outputs": [
    {
     "data": {
      "text/plain": [
       "[101, 102, 103, 104]"
      ]
     },
     "execution_count": 240,
     "metadata": {},
     "output_type": "execute_result"
    }
   ],
   "source": [
    "i=0\n",
    "while i<len(lis1):\n",
    "    lis1[i]=lis1[i]+100\n",
    "    i=i+1\n",
    "lis1"
   ]
  },
  {
   "cell_type": "code",
   "execution_count": 232,
   "id": "aaa08e41-6f30-42db-8b1a-f1d1b382d758",
   "metadata": {},
   "outputs": [],
   "source": [
    "# for loop"
   ]
  },
  {
   "cell_type": "code",
   "execution_count": 242,
   "id": "3c0d7af7-693b-42c5-a778-3d4e78904907",
   "metadata": {},
   "outputs": [
    {
     "data": {
      "text/plain": [
       "['apple', 'mango', 'orrange']"
      ]
     },
     "execution_count": 242,
     "metadata": {},
     "output_type": "execute_result"
    }
   ],
   "source": [
    "list1 = [\"apple\", \"mango\", \"orrange\"]\n",
    "list1"
   ]
  },
  {
   "cell_type": "code",
   "execution_count": 244,
   "id": "843361d9-9a51-4b52-92aa-aca4a779bc39",
   "metadata": {},
   "outputs": [
    {
     "name": "stdout",
     "output_type": "stream",
     "text": [
      "apple\n",
      "mango\n",
      "orrange\n"
     ]
    }
   ],
   "source": [
    "for i in list1:\n",
    "    print(i)"
   ]
  },
  {
   "cell_type": "code",
   "execution_count": 246,
   "id": "e0683296-46e2-465d-8837-c1423e1e51ff",
   "metadata": {},
   "outputs": [
    {
     "data": {
      "text/plain": [
       "['black', 'white', 'red']"
      ]
     },
     "execution_count": 246,
     "metadata": {},
     "output_type": "execute_result"
    }
   ],
   "source": [
    "list2 = [\"black\", \"white\", \"red\"]\n",
    "list2"
   ]
  },
  {
   "cell_type": "code",
   "execution_count": 250,
   "id": "7ec95453-dc5d-4d54-9980-8b71af80b985",
   "metadata": {},
   "outputs": [],
   "source": [
    "# nested loop"
   ]
  },
  {
   "cell_type": "code",
   "execution_count": 252,
   "id": "309060a3-8c6f-47ff-9c76-ccb0b52a6a89",
   "metadata": {},
   "outputs": [
    {
     "name": "stdout",
     "output_type": "stream",
     "text": [
      "apple  in list1  black  in list2 \n",
      "apple  in list1  white  in list2 \n",
      "apple  in list1  red  in list2 \n",
      "mango  in list1  black  in list2 \n",
      "mango  in list1  white  in list2 \n",
      "mango  in list1  red  in list2 \n",
      "orrange  in list1  black  in list2 \n",
      "orrange  in list1  white  in list2 \n",
      "orrange  in list1  red  in list2 \n"
     ]
    }
   ],
   "source": [
    "for i in list1:\n",
    "    for j in list2:\n",
    "        print(i ,\" in list1 \", j, \" in list2 \") "
   ]
  },
  {
   "cell_type": "code",
   "execution_count": 254,
   "id": "80e0e9fc-b222-409d-91a9-353e00427352",
   "metadata": {},
   "outputs": [],
   "source": [
    "# functions in python"
   ]
  },
  {
   "cell_type": "code",
   "execution_count": 256,
   "id": "11959f3a-159e-40eb-b36b-31155f227dd0",
   "metadata": {},
   "outputs": [],
   "source": [
    "def hello():\n",
    "    print(\"hello world\")"
   ]
  },
  {
   "cell_type": "code",
   "execution_count": 258,
   "id": "63c86fde-3f7f-4637-821e-5ca6fc39f0e1",
   "metadata": {},
   "outputs": [
    {
     "name": "stdout",
     "output_type": "stream",
     "text": [
      "hello world\n"
     ]
    }
   ],
   "source": [
    "hello()"
   ]
  },
  {
   "cell_type": "code",
   "execution_count": 260,
   "id": "e8d3edd6-ef6d-458a-a868-2600a1738f10",
   "metadata": {},
   "outputs": [],
   "source": [
    "def add10(x):\n",
    "    return x+10"
   ]
  },
  {
   "cell_type": "code",
   "execution_count": 262,
   "id": "f1904315-a129-4efc-8f31-7c50313e0c84",
   "metadata": {},
   "outputs": [
    {
     "data": {
      "text/plain": [
       "30"
      ]
     },
     "execution_count": 262,
     "metadata": {},
     "output_type": "execute_result"
    }
   ],
   "source": [
    "add10(20)"
   ]
  },
  {
   "cell_type": "code",
   "execution_count": 280,
   "id": "2e1d6d15-30fb-4be7-96c9-cc4bdf7b2d2c",
   "metadata": {},
   "outputs": [],
   "source": [
    "def odd_even(x):\n",
    "    if x%2 == 1:\n",
    "        print(x ,\" is odd\")\n",
    "    else:\n",
    "        print(x ,\" is even\")"
   ]
  },
  {
   "cell_type": "code",
   "execution_count": 282,
   "id": "f482b40d-4f55-4507-8ca4-01d75d5f80ea",
   "metadata": {},
   "outputs": [
    {
     "name": "stdout",
     "output_type": "stream",
     "text": [
      "1  is odd\n",
      "2  is even\n"
     ]
    }
   ],
   "source": [
    "odd_even(1)\n",
    "odd_even(2)"
   ]
  },
  {
   "cell_type": "code",
   "execution_count": 284,
   "id": "1a729cbe-1cf7-47d2-8733-ceebd1cc422d",
   "metadata": {},
   "outputs": [],
   "source": [
    "# anonymus function\n",
    "# that function no need to define"
   ]
  },
  {
   "cell_type": "code",
   "execution_count": 288,
   "id": "5c8ef9ef-9ced-4f80-ba8e-861e9362331d",
   "metadata": {},
   "outputs": [
    {
     "data": {
      "text/plain": [
       "125"
      ]
     },
     "execution_count": 288,
     "metadata": {},
     "output_type": "execute_result"
    }
   ],
   "source": [
    " g = lambda x: x*x*x\n",
    "g(5)"
   ]
  },
  {
   "cell_type": "code",
   "execution_count": 290,
   "id": "8e149ab7-23bb-4a06-acbe-681d15397b47",
   "metadata": {},
   "outputs": [],
   "source": [
    "# lambda with filter"
   ]
  },
  {
   "cell_type": "code",
   "execution_count": 304,
   "id": "0e9cf709-f86b-4c6d-8508-7ac6c1b696c3",
   "metadata": {},
   "outputs": [],
   "source": [
    "newlist = [23, 13, 14, 51, 32,64]\n",
    "finallist = list(filter(lambda x: (x%2 != 0), newlist))"
   ]
  },
  {
   "cell_type": "code",
   "execution_count": 306,
   "id": "47f67daa-f796-4cec-a540-3abefdd856b5",
   "metadata": {},
   "outputs": [
    {
     "data": {
      "text/plain": [
       "[23, 13, 51]"
      ]
     },
     "execution_count": 306,
     "metadata": {},
     "output_type": "execute_result"
    }
   ],
   "source": [
    "finallist"
   ]
  },
  {
   "cell_type": "code",
   "execution_count": 309,
   "id": "9c384e42-6de5-4730-b62f-ad0bd51ca978",
   "metadata": {},
   "outputs": [],
   "source": [
    "# lambda with map"
   ]
  },
  {
   "cell_type": "code",
   "execution_count": 311,
   "id": "4a77cea9-a1e0-4792-9f2b-f4743358f46b",
   "metadata": {},
   "outputs": [],
   "source": [
    "l1 = [12,3,43,5,1,2]\n",
    "newfinallist = list(map(lambda x: x*2, l1))"
   ]
  },
  {
   "cell_type": "code",
   "execution_count": 313,
   "id": "583b8675-3e9b-43c5-bf3e-581ac944edb0",
   "metadata": {},
   "outputs": [
    {
     "data": {
      "text/plain": [
       "[24, 6, 86, 10, 2, 4]"
      ]
     },
     "execution_count": 313,
     "metadata": {},
     "output_type": "execute_result"
    }
   ],
   "source": [
    "newfinallist"
   ]
  },
  {
   "cell_type": "code",
   "execution_count": 317,
   "id": "9624cd06-ced5-4f70-81f4-23358edc8ade",
   "metadata": {},
   "outputs": [],
   "source": [
    "from functools import reduce"
   ]
  },
  {
   "cell_type": "code",
   "execution_count": 319,
   "id": "0022cb2a-7455-4720-8f9d-956ed04da2bf",
   "metadata": {},
   "outputs": [
    {
     "data": {
      "text/plain": [
       "[1, 2, 3, 4]"
      ]
     },
     "execution_count": 319,
     "metadata": {},
     "output_type": "execute_result"
    }
   ],
   "source": [
    "l1 = [1,2,3,4]\n",
    "l1"
   ]
  },
  {
   "cell_type": "code",
   "execution_count": 326,
   "id": "e4fff978-99fb-41e1-bebf-698f194a0d6b",
   "metadata": {},
   "outputs": [],
   "source": [
    "sum = reduce(lambda x,y: x+y,l1)"
   ]
  },
  {
   "cell_type": "code",
   "execution_count": 328,
   "id": "3428cf38-e371-4e5f-a294-9210e6f48485",
   "metadata": {},
   "outputs": [
    {
     "data": {
      "text/plain": [
       "10"
      ]
     },
     "execution_count": 328,
     "metadata": {},
     "output_type": "execute_result"
    }
   ],
   "source": [
    "sum"
   ]
  },
  {
   "cell_type": "code",
   "execution_count": 1,
   "id": "566cd002-40a0-426f-b128-32412bd32ac6",
   "metadata": {},
   "outputs": [],
   "source": [
    "# Object oriented programming"
   ]
  },
  {
   "cell_type": "code",
   "execution_count": 3,
   "id": "f59737f0-31e5-4922-9cdc-1236310f84ab",
   "metadata": {},
   "outputs": [],
   "source": [
    "# 1. class\n",
    "# class is a template /blue-print for real-world entities\n",
    "# class is a user defined data-type\n",
    "# attributes are the properties\n",
    "# methods are the behaviors"
   ]
  },
  {
   "cell_type": "code",
   "execution_count": 5,
   "id": "fb2c63c7-b3c0-4802-9042-18ba5ed3c7da",
   "metadata": {},
   "outputs": [],
   "source": [
    "# 2. object\n",
    "# object are specific instances of class"
   ]
  },
  {
   "cell_type": "code",
   "execution_count": 7,
   "id": "54da54f4-f689-4a0b-b4df-1f7d20897206",
   "metadata": {},
   "outputs": [],
   "source": [
    "# creating the phone class"
   ]
  },
  {
   "cell_type": "code",
   "execution_count": 35,
   "id": "2ad8f2b5-53df-484c-82b3-9e4954b4b73c",
   "metadata": {},
   "outputs": [],
   "source": [
    "class Phone:\n",
    "    def make_call(self):\n",
    "        print(\"making phone call\")\n",
    "    def play_game(self):\n",
    "        print(\"playing game\")"
   ]
  },
  {
   "cell_type": "code",
   "execution_count": 37,
   "id": "714009c7-5b2f-41ae-bab7-81bb64d96eb6",
   "metadata": {},
   "outputs": [],
   "source": [
    "# instantiating the 'p1' object"
   ]
  },
  {
   "cell_type": "code",
   "execution_count": 49,
   "id": "7e30f863-e069-4660-a203-63bc367ceafc",
   "metadata": {},
   "outputs": [],
   "source": [
    "p1=Phone()"
   ]
  },
  {
   "cell_type": "code",
   "execution_count": 41,
   "id": "d0ac3f88-7f24-42b9-b3be-8cc81ac544d7",
   "metadata": {},
   "outputs": [],
   "source": [
    "# invoking methods through object"
   ]
  },
  {
   "cell_type": "code",
   "execution_count": 51,
   "id": "a51356ec-d600-47ea-b29f-f6236c7a1ec4",
   "metadata": {},
   "outputs": [
    {
     "name": "stdout",
     "output_type": "stream",
     "text": [
      "making phone call\n"
     ]
    }
   ],
   "source": [
    "p1.make_call()"
   ]
  },
  {
   "cell_type": "code",
   "execution_count": 53,
   "id": "b1d62f9f-7189-4b9a-b5fc-532f68a8c051",
   "metadata": {},
   "outputs": [
    {
     "name": "stdout",
     "output_type": "stream",
     "text": [
      "playing game\n"
     ]
    }
   ],
   "source": [
    "p1.play_game()"
   ]
  },
  {
   "cell_type": "code",
   "execution_count": 57,
   "id": "93623284-9ecf-4a46-9bb6-d515a9eddefb",
   "metadata": {},
   "outputs": [],
   "source": [
    "class Phone1:\n",
    "    def set_color(self,color):\n",
    "        self.color=color\n",
    "    def set_cost(self,cost):\n",
    "        self.cost=cost\n",
    "\n",
    "    def show_color(self):\n",
    "        return self.color\n",
    "    def show_cost(self):\n",
    "        return self.cost\n",
    "    def make_call(self):\n",
    "        print(\"making phone call\")\n",
    "    def play_game(self):\n",
    "        print(\"playing game\")\n",
    "    "
   ]
  },
  {
   "cell_type": "code",
   "execution_count": 59,
   "id": "63e3084c-6d98-44bb-a86e-4c09de86ae33",
   "metadata": {},
   "outputs": [],
   "source": [
    "p2=Phone1()"
   ]
  },
  {
   "cell_type": "code",
   "execution_count": 61,
   "id": "71dc6248-0180-4bf5-bb56-1ce4b1a7e106",
   "metadata": {},
   "outputs": [],
   "source": [
    "p2.set_color(\"black\")"
   ]
  },
  {
   "cell_type": "code",
   "execution_count": 63,
   "id": "a5e3c0a2-3b2e-417b-944d-118aae99fa7a",
   "metadata": {},
   "outputs": [],
   "source": [
    "p2.set_cost(50000)"
   ]
  },
  {
   "cell_type": "code",
   "execution_count": 65,
   "id": "ee64cfbd-c0ff-4944-8247-26e749fb9bfb",
   "metadata": {},
   "outputs": [
    {
     "data": {
      "text/plain": [
       "'black'"
      ]
     },
     "execution_count": 65,
     "metadata": {},
     "output_type": "execute_result"
    }
   ],
   "source": [
    "p2.show_color()"
   ]
  },
  {
   "cell_type": "code",
   "execution_count": 67,
   "id": "fa649e10-522f-48bd-9d78-97b261f71601",
   "metadata": {},
   "outputs": [
    {
     "data": {
      "text/plain": [
       "50000"
      ]
     },
     "execution_count": 67,
     "metadata": {},
     "output_type": "execute_result"
    }
   ],
   "source": [
    "p2.show_cost()"
   ]
  },
  {
   "cell_type": "code",
   "execution_count": 69,
   "id": "d51e2a6a-747d-4063-8683-a860ee1f21fe",
   "metadata": {},
   "outputs": [
    {
     "name": "stdout",
     "output_type": "stream",
     "text": [
      "making phone call\n"
     ]
    }
   ],
   "source": [
    "p2.make_call()"
   ]
  },
  {
   "cell_type": "code",
   "execution_count": 71,
   "id": "acd8d709-b2bd-4b0b-8a6a-3d4a6fb9d67c",
   "metadata": {},
   "outputs": [
    {
     "name": "stdout",
     "output_type": "stream",
     "text": [
      "playing game\n"
     ]
    }
   ],
   "source": [
    "p2.play_game()"
   ]
  },
  {
   "cell_type": "code",
   "execution_count": 83,
   "id": "0b142536-1d8f-410d-a69a-60ca685901f4",
   "metadata": {},
   "outputs": [],
   "source": [
    "class Employee:\n",
    "    def __init__(self,name,salary,age,gender):\n",
    "        self.name=name\n",
    "        self.salary=salary\n",
    "        self.age=age\n",
    "        self.gender=gender\n",
    "\n",
    "    def employee_details(self):\n",
    "        print(\"Name of employee is: \",self.name)\n",
    "        print(\"Salary of employee is: \",self.salary)\n",
    "        print(\"Age of employee is: \",self.age)\n",
    "        print(\"Gender of employee is: \",self.gender)\n",
    "        "
   ]
  },
  {
   "cell_type": "code",
   "execution_count": 91,
   "id": "1bf1aa26-0053-441f-899a-f39aa8dcb434",
   "metadata": {},
   "outputs": [],
   "source": [
    "e1=Employee(\"zain\",1000000,23,\"male\")"
   ]
  },
  {
   "cell_type": "code",
   "execution_count": null,
   "id": "9b51ee97-e743-460c-a10f-5e6ff44cabac",
   "metadata": {},
   "outputs": [],
   "source": [
    "e1.employee_detai"
   ]
  },
  {
   "cell_type": "code",
   "execution_count": null,
   "id": "25be0523-24c7-42e8-afad-e9a68d86f7b2",
   "metadata": {},
   "outputs": [],
   "source": []
  },
  {
   "cell_type": "code",
   "execution_count": null,
   "id": "c69521d0-da0d-4053-88b6-bde2aeddf095",
   "metadata": {},
   "outputs": [],
   "source": []
  },
  {
   "cell_type": "code",
   "execution_count": null,
   "id": "45b41e1b-b347-44ff-b82f-5252c78cd0ec",
   "metadata": {},
   "outputs": [],
   "source": []
  },
  {
   "cell_type": "code",
   "execution_count": null,
   "id": "12026034-dbf8-4a29-a85a-462db576a74e",
   "metadata": {},
   "outputs": [],
   "source": []
  },
  {
   "cell_type": "code",
   "execution_count": null,
   "id": "a9c09f5e-dd71-41d8-ae82-293992191570",
   "metadata": {},
   "outputs": [],
   "source": []
  },
  {
   "cell_type": "code",
   "execution_count": null,
   "id": "329b9d28-80e6-4468-b74a-e226e8a5b237",
   "metadata": {},
   "outputs": [],
   "source": []
  },
  {
   "cell_type": "code",
   "execution_count": null,
   "id": "ffd1e789-375d-4bb1-922e-92278aa77598",
   "metadata": {},
   "outputs": [],
   "source": []
  },
  {
   "cell_type": "code",
   "execution_count": null,
   "id": "5741fd27-df82-49f2-be04-7f8ce037c8f8",
   "metadata": {},
   "outputs": [],
   "source": []
  }
 ],
 "metadata": {
  "kernelspec": {
   "display_name": "Python 3 (ipykernel)",
   "language": "python",
   "name": "python3"
  },
  "language_info": {
   "codemirror_mode": {
    "name": "ipython",
    "version": 3
   },
   "file_extension": ".py",
   "mimetype": "text/x-python",
   "name": "python",
   "nbconvert_exporter": "python",
   "pygments_lexer": "ipython3",
   "version": "3.12.7"
  }
 },
 "nbformat": 4,
 "nbformat_minor": 5
}
