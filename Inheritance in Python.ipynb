{
 "cells": [
  {
   "cell_type": "code",
   "execution_count": 1,
   "id": "cf8d8aef-7dbe-4750-b6fc-e7bdf33f0ea8",
   "metadata": {},
   "outputs": [],
   "source": [
    "# Inheritance in python\n",
    "# with inheritance one class can drive the properties of another class"
   ]
  },
  {
   "cell_type": "code",
   "execution_count": 3,
   "id": "678f5e6d-e90a-4114-907f-b9add2d0ff7e",
   "metadata": {},
   "outputs": [],
   "source": [
    "# creating the base class"
   ]
  },
  {
   "cell_type": "code",
   "execution_count": 7,
   "id": "0710f457-cfce-4859-9209-c897b00ece20",
   "metadata": {},
   "outputs": [],
   "source": [
    "class Vehicle:\n",
    "    def __init__(self,milage,cost):\n",
    "        self.milage=milage\n",
    "        self.cost=cost\n",
    "\n",
    "    def show_details(self):\n",
    "        print(\"I am a vehicle\")\n",
    "        print(\"Milage of vehicle is \",self.milage)\n",
    "        print(\"Cost of vehicle is \",self.cost)"
   ]
  },
  {
   "cell_type": "code",
   "execution_count": 9,
   "id": "e7df7288-167d-4daf-bd55-85473d986a95",
   "metadata": {},
   "outputs": [],
   "source": [
    "# instantiating the object for base class"
   ]
  },
  {
   "cell_type": "code",
   "execution_count": 13,
   "id": "7dad3439-2a87-4a8c-9ff8-04007dbf8f81",
   "metadata": {},
   "outputs": [],
   "source": [
    "v1=Vehicle(500,10020324)"
   ]
  },
  {
   "cell_type": "code",
   "execution_count": 15,
   "id": "3ef05548-30db-45c3-a3a9-a5ef1721415d",
   "metadata": {},
   "outputs": [
    {
     "name": "stdout",
     "output_type": "stream",
     "text": [
      "I am a vehicle\n",
      "Milage of vehicle is  500\n",
      "Cost of vehicle is  10020324\n"
     ]
    }
   ],
   "source": [
    "v1.show_details()"
   ]
  },
  {
   "cell_type": "code",
   "execution_count": 17,
   "id": "d122d964-7405-4e79-9858-9d5eb1a0802e",
   "metadata": {},
   "outputs": [],
   "source": [
    "# creating the child class"
   ]
  },
  {
   "cell_type": "code",
   "execution_count": 19,
   "id": "d719693d-69da-4b78-9ccd-18f98db84b26",
   "metadata": {},
   "outputs": [],
   "source": [
    "class Car(Vehicle):\n",
    "    def show_car(self):\n",
    "        print(\"I am a car\")"
   ]
  },
  {
   "cell_type": "code",
   "execution_count": 21,
   "id": "54ea16b9-6dba-4a72-a1db-5b8a53ab10ab",
   "metadata": {},
   "outputs": [],
   "source": [
    "# instantiating the object for child class"
   ]
  },
  {
   "cell_type": "code",
   "execution_count": 25,
   "id": "6dc8ffeb-6bb9-4ae4-9c98-88b7569a85c8",
   "metadata": {},
   "outputs": [],
   "source": [
    "c1=Car(21491,132532)"
   ]
  },
  {
   "cell_type": "code",
   "execution_count": 27,
   "id": "04f4e532-dea2-48f8-8b7b-3a668a337735",
   "metadata": {},
   "outputs": [
    {
     "name": "stdout",
     "output_type": "stream",
     "text": [
      "I am a vehicle\n",
      "Milage of vehicle is  21491\n",
      "Cost of vehicle is  132532\n"
     ]
    }
   ],
   "source": [
    "c1.show_details()"
   ]
  },
  {
   "cell_type": "code",
   "execution_count": 31,
   "id": "d662d61a-a707-4175-b959-12e5920a94ac",
   "metadata": {},
   "outputs": [],
   "source": [
    "# invoking the child class method"
   ]
  },
  {
   "cell_type": "code",
   "execution_count": 33,
   "id": "21a2a214-0ae9-4ae8-85d0-f76c4dd2f0f9",
   "metadata": {},
   "outputs": [
    {
     "name": "stdout",
     "output_type": "stream",
     "text": [
      "I am a car\n"
     ]
    }
   ],
   "source": [
    "c1.show_car()"
   ]
  },
  {
   "cell_type": "code",
   "execution_count": 35,
   "id": "4dac8f8f-28a1-46fd-97a3-e6a036831d7b",
   "metadata": {},
   "outputs": [],
   "source": [
    "# overriding init method"
   ]
  },
  {
   "cell_type": "code",
   "execution_count": 37,
   "id": "0ffd543e-b5e5-4a25-a28e-542849db687b",
   "metadata": {},
   "outputs": [],
   "source": [
    "class Vehicle2:\n",
    "    def __init__(self,milage,cost):\n",
    "        self.milage=milage\n",
    "        self.cost=cost\n",
    "\n",
    "    def show_details(self):\n",
    "        print(\"I am a vehicle\")\n",
    "        print(\"Milage of vehicle is \",self.milage)\n",
    "        print(\"Cost of vehicle is \",self.cost)"
   ]
  },
  {
   "cell_type": "code",
   "execution_count": 39,
   "id": "eea61602-7d3c-4909-9723-c29d7669416e",
   "metadata": {},
   "outputs": [],
   "source": [
    "v2=Vehicle2(2343,153254325)"
   ]
  },
  {
   "cell_type": "code",
   "execution_count": 41,
   "id": "d72b62d9-0aab-45e0-855c-b1563c82af58",
   "metadata": {},
   "outputs": [
    {
     "name": "stdout",
     "output_type": "stream",
     "text": [
      "I am a vehicle\n",
      "Milage of vehicle is  2343\n",
      "Cost of vehicle is  153254325\n"
     ]
    }
   ],
   "source": [
    "v2.show_details()"
   ]
  },
  {
   "cell_type": "code",
   "execution_count": 43,
   "id": "a5e1f78d-e583-45f0-b7dd-8ea15b2e252f",
   "metadata": {},
   "outputs": [],
   "source": [
    "# overriding init method"
   ]
  },
  {
   "cell_type": "code",
   "execution_count": 45,
   "id": "8ed7f322-0ef3-4168-8d5b-e0d92dfdc24b",
   "metadata": {},
   "outputs": [],
   "source": [
    "class Car(Vehicle):\n",
    "    def __init__(self,milage,cost,tyre,hp):\n",
    "        super().__init__(milage,cost)\n",
    "        self.tyre=tyre\n",
    "        self.hp=hp\n",
    "    def show_car_details(self):\n",
    "        print(\"I am a car\")\n",
    "        print(\"I have tyre \", self.tyre)\n",
    "        print(\"I have hp \",self.hp)"
   ]
  },
  {
   "cell_type": "code",
   "execution_count": 47,
   "id": "5e059b78-df52-480c-9c6a-c7f11b39c804",
   "metadata": {},
   "outputs": [],
   "source": [
    "c2=Car(23,14234,3,523)"
   ]
  },
  {
   "cell_type": "code",
   "execution_count": 49,
   "id": "51c55054-0734-48c1-9a52-6cebd4f43bed",
   "metadata": {},
   "outputs": [
    {
     "name": "stdout",
     "output_type": "stream",
     "text": [
      "I am a vehicle\n",
      "Milage of vehicle is  23\n",
      "Cost of vehicle is  14234\n"
     ]
    }
   ],
   "source": [
    "c2.show_details()"
   ]
  },
  {
   "cell_type": "code",
   "execution_count": 51,
   "id": "ff2d08a8-26ba-4aef-b2cf-092d4aebfa36",
   "metadata": {},
   "outputs": [
    {
     "name": "stdout",
     "output_type": "stream",
     "text": [
      "I am a car\n",
      "I have tyre  3\n",
      "I have hp  523\n"
     ]
    }
   ],
   "source": [
    "c2.show_car_details()"
   ]
  },
  {
   "cell_type": "code",
   "execution_count": 53,
   "id": "34c82930-93d3-49bf-bde1-0c29d0bc8828",
   "metadata": {},
   "outputs": [],
   "source": [
    "# types of inheritance"
   ]
  },
  {
   "cell_type": "code",
   "execution_count": 55,
   "id": "ce1dcbc9-1b84-419e-992e-b8c88a7eaa5d",
   "metadata": {},
   "outputs": [],
   "source": [
    "# 1. single inheritance"
   ]
  },
  {
   "cell_type": "code",
   "execution_count": 61,
   "id": "52c5618a-6322-43a7-8dd2-c60bd9a2ed48",
   "metadata": {},
   "outputs": [],
   "source": [
    "# 2. multiple inheritance\n",
    "# In multiple inheritance child class is inherit from more than 1 parent class"
   ]
  },
  {
   "cell_type": "code",
   "execution_count": 63,
   "id": "729cd0e6-dfef-4ca8-ba32-1d3298e38891",
   "metadata": {},
   "outputs": [],
   "source": [
    "# parent class 1"
   ]
  },
  {
   "cell_type": "code",
   "execution_count": 101,
   "id": "03e22234-03ed-4137-833b-2f1173256c56",
   "metadata": {},
   "outputs": [],
   "source": [
    "class Parent1:\n",
    "    def assign_string_one(self,str1):\n",
    "        self.str1 = str1\n",
    "    def show_str1(self):\n",
    "        return self.str1"
   ]
  },
  {
   "cell_type": "code",
   "execution_count": 103,
   "id": "ea0748ba-6a43-4415-b9fe-b8838aa54a79",
   "metadata": {},
   "outputs": [],
   "source": [
    "# parent class 2"
   ]
  },
  {
   "cell_type": "code",
   "execution_count": 105,
   "id": "80ad678b-809d-4df8-9105-09275bb21693",
   "metadata": {},
   "outputs": [],
   "source": [
    "class Parent2:\n",
    "    def assign_string_two(self,str2):\n",
    "        self.str2 = str2\n",
    "    def show_str2(self):\n",
    "        return self.str2"
   ]
  },
  {
   "cell_type": "code",
   "execution_count": 107,
   "id": "9e5a02b1-f061-4366-997e-d3b3c4367d07",
   "metadata": {},
   "outputs": [],
   "source": [
    "# child class"
   ]
  },
  {
   "cell_type": "code",
   "execution_count": 109,
   "id": "7c603445-fb3c-481c-a660-814709a9337e",
   "metadata": {},
   "outputs": [],
   "source": [
    "class Derived(Parent1,Parent2):\n",
    "    def assign_string_three(self,str3):\n",
    "        self.str3=str3\n",
    "    def show_str3(self):\n",
    "        return self.str3"
   ]
  },
  {
   "cell_type": "code",
   "execution_count": 111,
   "id": "3b5d4824-9445-4eef-af18-fb66012ac1a7",
   "metadata": {},
   "outputs": [],
   "source": [
    "# instantatiating the object of child class"
   ]
  },
  {
   "cell_type": "code",
   "execution_count": 113,
   "id": "0a8ccf90-6385-424f-a340-bc6a3ff7d02f",
   "metadata": {},
   "outputs": [],
   "source": [
    "d1 = Derived()"
   ]
  },
  {
   "cell_type": "code",
   "execution_count": 129,
   "id": "c7319c68-9047-46a0-b0e9-e7bbc330db68",
   "metadata": {},
   "outputs": [],
   "source": [
    "d1.assign_string_one(\"parent one\")"
   ]
  },
  {
   "cell_type": "code",
   "execution_count": 131,
   "id": "5ec4d323-2f25-4fb9-8cb5-5c9dec71d508",
   "metadata": {},
   "outputs": [],
   "source": [
    "d1.assign_string_two(\"parent two\")"
   ]
  },
  {
   "cell_type": "code",
   "execution_count": 133,
   "id": "83365ca8-c86d-45cc-889c-3de3e348241c",
   "metadata": {},
   "outputs": [],
   "source": [
    "d1.assign_string_three(\"child three\")"
   ]
  },
  {
   "cell_type": "code",
   "execution_count": 135,
   "id": "1efd5084-6959-4153-9c7e-d0a9d3c32844",
   "metadata": {},
   "outputs": [],
   "source": [
    "# invoking methods"
   ]
  },
  {
   "cell_type": "code",
   "execution_count": 137,
   "id": "7127b662-0a18-4a33-aede-4e8959062afb",
   "metadata": {},
   "outputs": [
    {
     "data": {
      "text/plain": [
       "'parent one'"
      ]
     },
     "execution_count": 137,
     "metadata": {},
     "output_type": "execute_result"
    }
   ],
   "source": [
    "d1.show_str1()"
   ]
  },
  {
   "cell_type": "code",
   "execution_count": 139,
   "id": "10634b7d-fa65-447b-8b52-b0a7a0bfca0f",
   "metadata": {},
   "outputs": [
    {
     "data": {
      "text/plain": [
       "'parent two'"
      ]
     },
     "execution_count": 139,
     "metadata": {},
     "output_type": "execute_result"
    }
   ],
   "source": [
    "d1.show_str2()"
   ]
  },
  {
   "cell_type": "code",
   "execution_count": 141,
   "id": "77f42649-9fe5-4eeb-a2f8-490b511bf4cb",
   "metadata": {},
   "outputs": [
    {
     "data": {
      "text/plain": [
       "'child three'"
      ]
     },
     "execution_count": 141,
     "metadata": {},
     "output_type": "execute_result"
    }
   ],
   "source": [
    "d1.show_str3()"
   ]
  },
  {
   "cell_type": "code",
   "execution_count": 145,
   "id": "c3f77fab-6b51-4029-982c-dd5e09437641",
   "metadata": {},
   "outputs": [],
   "source": [
    "# 3. multi level inheritance\n",
    "# In multi level inheritance we have parent, child, grand-child relationship"
   ]
  },
  {
   "cell_type": "code",
   "execution_count": 147,
   "id": "d08eb421-2015-4f81-9457-5a8db631d446",
   "metadata": {},
   "outputs": [],
   "source": [
    "# parent class"
   ]
  },
  {
   "cell_type": "code",
   "execution_count": 159,
   "id": "319f8ce4-5e14-4cca-b15a-55f6b5265141",
   "metadata": {},
   "outputs": [],
   "source": [
    "class Parent:\n",
    "    def get_name(self,name):\n",
    "        self.name=name\n",
    "    def show_name(self):\n",
    "        return self.name"
   ]
  },
  {
   "cell_type": "code",
   "execution_count": 161,
   "id": "df249cd9-9f7e-4844-90a0-e6d4090c4117",
   "metadata": {},
   "outputs": [],
   "source": [
    "# child class"
   ]
  },
  {
   "cell_type": "code",
   "execution_count": 163,
   "id": "3d6b6e76-77dd-4762-adda-cb5c7fae0660",
   "metadata": {},
   "outputs": [],
   "source": [
    "class Child(Parent):\n",
    "    def get_age(self,age):\n",
    "        self.age=age\n",
    "    def show_age(self):\n",
    "        return self.age"
   ]
  },
  {
   "cell_type": "code",
   "execution_count": 165,
   "id": "5df38afd-9323-4f59-aba4-630d8a69cc1e",
   "metadata": {},
   "outputs": [],
   "source": [
    "# grand-child class"
   ]
  },
  {
   "cell_type": "code",
   "execution_count": 179,
   "id": "6700e99a-71a3-4580-ba30-def964feb781",
   "metadata": {},
   "outputs": [],
   "source": [
    "class GrandChild(Child):\n",
    "    def get_gender(self,gender):\n",
    "        self.gender=gender\n",
    "    def show_gender(self):\n",
    "        print(\"gender is: \",self.gender)"
   ]
  },
  {
   "cell_type": "code",
   "execution_count": 181,
   "id": "2c6aa0a0-9088-4d6d-b1fd-b958402450ee",
   "metadata": {},
   "outputs": [],
   "source": [
    "gc = GrandChild()"
   ]
  },
  {
   "cell_type": "code",
   "execution_count": 183,
   "id": "28c533d6-aa7c-4fdb-a75e-544ddbe3f0cd",
   "metadata": {},
   "outputs": [],
   "source": [
    "gc.get_name(\"zain\")"
   ]
  },
  {
   "cell_type": "code",
   "execution_count": 185,
   "id": "449d81ed-de31-4165-9599-4d1be7d5bb5c",
   "metadata": {},
   "outputs": [],
   "source": [
    "gc.get_age(23)"
   ]
  },
  {
   "cell_type": "code",
   "execution_count": 187,
   "id": "0357ed59-26f0-4ae3-aacd-474bbdad3183",
   "metadata": {},
   "outputs": [],
   "source": [
    "gc.get_gender(\"male\")"
   ]
  },
  {
   "cell_type": "code",
   "execution_count": 191,
   "id": "f48e5d78-ab16-4804-903f-5a0ae9cf1302",
   "metadata": {},
   "outputs": [
    {
     "data": {
      "text/plain": [
       "'zain'"
      ]
     },
     "execution_count": 191,
     "metadata": {},
     "output_type": "execute_result"
    }
   ],
   "source": [
    "gc.show_name()"
   ]
  },
  {
   "cell_type": "code",
   "execution_count": 193,
   "id": "84d7519c-7fe3-4911-8341-fbc65091e2d6",
   "metadata": {},
   "outputs": [
    {
     "data": {
      "text/plain": [
       "23"
      ]
     },
     "execution_count": 193,
     "metadata": {},
     "output_type": "execute_result"
    }
   ],
   "source": [
    "gc.show_age()"
   ]
  },
  {
   "cell_type": "code",
   "execution_count": null,
   "id": "55379586-6cee-4bbe-ad74-0aa8a321af9b",
   "metadata": {},
   "outputs": [],
   "source": []
  }
 ],
 "metadata": {
  "kernelspec": {
   "display_name": "Python 3 (ipykernel)",
   "language": "python",
   "name": "python3"
  },
  "language_info": {
   "codemirror_mode": {
    "name": "ipython",
    "version": 3
   },
   "file_extension": ".py",
   "mimetype": "text/x-python",
   "name": "python",
   "nbconvert_exporter": "python",
   "pygments_lexer": "ipython3",
   "version": "3.12.7"
  }
 },
 "nbformat": 4,
 "nbformat_minor": 5
}
